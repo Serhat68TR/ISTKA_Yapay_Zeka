{
  "nbformat": 4,
  "nbformat_minor": 0,
  "metadata": {
    "colab": {
      "provenance": []
    },
    "kernelspec": {
      "name": "python3",
      "display_name": "Python 3"
    },
    "language_info": {
      "name": "python"
    }
  },
  "cells": [
    {
      "cell_type": "markdown",
      "source": [
        "#İSTKA SİBER AKADEMİ 29-10-2024 Yapay Zeka Dersi Çalışmaları"
      ],
      "metadata": {
        "id": "raCdeoSQGWuW"
      }
    },
    {
      "cell_type": "markdown",
      "source": [
        "Çalışmalarından faydalandığım değerli hocam Ali ÇETİNKAYA'nın açık kaynak kodlu linki : https://github.com/acetinkaya/ai_igu/tree/main"
      ],
      "metadata": {
        "id": "vxEfWejqGeON"
      }
    },
    {
      "cell_type": "markdown",
      "source": [
        "#BULANIK MANTIK"
      ],
      "metadata": {
        "id": "4A5gctVfG4i9"
      }
    },
    {
      "cell_type": "markdown",
      "source": [
        "#BULANIK MANTIK NEDİR?\n",
        "\n",
        "Kesin olmayan belirsiz seçenekleri, belirli kurallar çerçevesinde derecelendirme yeteneğine sahip olan bir mantık sistemidir.\n",
        "\n",
        "Bulanık mantık, belirsizlikle çalışabilen bir mantık sistemidir ve klasik (ikili) mantıktan ayrılır. Klasik mantık, doğru-yanlış veya 1-0 gibi net ikiliklerle çalışırken, bulanık mantık ara değerleri de kabul eder. Örneğin, klasik mantıkta sıcaklık \"sıcak\" veya \"soğuk\" olarak sınıflandırılabilirken, bulanık mantık sıcaklık seviyesini \"biraz sıcak,\" \"çok sıcak,\" veya \"soğuk\" gibi daha esnek kategorilere ayırabilir. Bu özellik, bulanık mantığı günlük yaşamda sıkça karşılaştığımız belirsiz ve muğlak durumlarla çalışmak için uygun hale getirir."
      ],
      "metadata": {
        "id": "FFhcBSefGgwU"
      }
    },
    {
      "cell_type": "markdown",
      "source": [
        "#Bulanık Mantığın Başlangıcı\n",
        "\n",
        "Bulanık mantık, ilk kez 1965 yılında Azeri bilgisayar bilimcisi ve matematikçi Lotfi Zadeh tarafından ortaya atılmıştır. Zadeh, bulanık mantığı belirsizliklerle çalışabilen bir matematiksel çerçeve olarak tanıtmıştır. Temel amacı, insanların belirsiz, tam tanımlanamayan veya kesin olmayan bilgilere dayalı karar alma yetisini taklit etmektir."
      ],
      "metadata": {
        "id": "ribEQs0pHM8d"
      }
    },
    {
      "cell_type": "markdown",
      "source": [
        "#Bulanık Mantığın Temel Kavramları\n",
        "\n",
        "Bulanık Küme (Fuzzy Set): Klasik kümelerde bir eleman ya kümeye aittir ya da değildir. Ancak bulanık kümelerde elemanlar belirli bir dereceyle kümeye dâhil olur. Örneğin, bir kişinin sıcaklık algısı bir bulanık küme olabilir, ve \"sıcaklık\" kümesine \"0.7\" derecesiyle dahil olabilir. Bu da \"kısmen sıcak\" olduğunu ifade eder.\n",
        "\n",
        "Üyelik Fonksiyonu: Bir elemanın bulanık bir kümeye aitlik derecesini belirler. Değerler 0 ile 1 arasında olabilir ve elemanın kümeye ne kadar ait olduğunu gösterir. Örneğin, 30°C sıcaklık için \"sıcak\" kümesindeki üyelik değeri 0.6 olabilir; bu da sıcaklığın \"kısmen sıcak\" olduğunu gösterir.\n",
        "\n",
        "Dereceli Mantık (Degrees of Truth): Klasik mantıkta, ifadeler ya doğrudur (1) ya da yanlıştır (0). Bulanık mantık ise bir ifadenin doğruluk derecesine göre \"kısmen doğru\" veya \"kısmen yanlış\" olabilir. Bu nedenle, bulanık mantık daha esnek ve ifade zenginliği olan bir mantık sistemi sunar."
      ],
      "metadata": {
        "id": "_VgXVFArHUSd"
      }
    },
    {
      "cell_type": "markdown",
      "source": [
        "#Bulanık Mantığın Klasik Mantıktan Farkı\n",
        "\n",
        "Klasik mantık, net sonuçlarla çalışırken bulanık mantık, belirsiz ve ara değerlere dayalı sonuçlar üretir.\n",
        "\n",
        "Klasik Mantık Örneği:\n",
        "Klasik mantıkta bir nesne ya \"uzun\" ya da \"kısa\" olabilir. Eğer 180 cm uzunluğu \"uzun\" kabul edersek, 179 cm olan bir kişiyi \"kısa\" olarak değerlendirmek zorunda kalırız.\n",
        "\n",
        "Bulanık Mantık Örneği:\n",
        "Bulanık mantıkta ise 179 cm olan bir kişinin \"kısmen uzun\" olduğu ifade edilebilir. Örneğin, 179 cm uzunluğa %90 uzun, %10 kısa gibi bir değerlendirme yapılabilir. Bu daha gerçekçi bir model sunar çünkü uzunluk öznel bir kavramdır ve her insana göre değişiklik gösterebilir."
      ],
      "metadata": {
        "id": "nl2sEyVfHd-0"
      }
    },
    {
      "cell_type": "markdown",
      "source": [
        "#Neden Bulanık Mantık?\n",
        "\n",
        "Bulanık mantık belirsiz, zamanla değişen, karmaşık, iyi tanımlanmamış sistemlerin denetiminde kullanılabilir. Bu sistemlere çözümler üreterek mevcut sistemlerin güncellenmesi de yapılabilir. Kullanılan sistem klasik matematik tabanlı model içeren bir sistem ise geleneksel bir denetim yeterli olacaktır.Yalnız karmaşık bir sistem üzerinde geleneksel bir mantık ile ilerlemek hem çok zor hem de yüksek maliyet gerektirmektedir.Buna karşılık olarak bulanık mantık denetimli bir sistem daha iyi analizler ortaya çıkarır ve sonuçlar ortaya koyabilmektedir.Bulanık mantık denetimde bir yazılım küçük işlem adımlarıyla gerçekleştirilir.Sonuçlar daha kontrollü ve başarılı bir şekilde ortaya çıkmaktadır."
      ],
      "metadata": {
        "id": "1a3wxBjHKIkt"
      }
    },
    {
      "cell_type": "markdown",
      "source": [
        "#Basit Bir Örnek Daha Verecek Olursam\n",
        "Bir kahve dükkanının sıcaklık ayarını düşünelim. Farklı insanlar farklı sıcaklıklarda rahat edebilir:\n",
        "\n",
        "Klasik Yaklaşım: Termostat 22°C olarak ayarlanır, herkes için ideal sıcaklık kabul edilir.\n",
        "\n",
        "Bulanık Mantık Yaklaşımı: Termostat, dışarıdaki hava sıcaklığına göre ayarlanır ve içerideki müşteri yoğunluğunu, insanların hareket durumunu ve bireylerin farklı sıcaklık tercihlerine göre 20-24°C arasında değişen bir sıcaklık aralığı sunabilir.\n",
        "\n",
        "Bu esneklik, müşteri konforunu arttırır ve işletme için enerjiden tasarruf sağlar.\n"
      ],
      "metadata": {
        "id": "cu9qjO5xOtj9"
      }
    },
    {
      "cell_type": "markdown",
      "source": [
        "#Bulanık Mantığın Kullanım Alanları\n",
        "\n",
        "Çimento sektörü : Bu sektörde kullanılan birçok işlem bulanım mantık sayeside yapılmaktadır. Çimento üretimi sırasında sıcaklık, nem, malzeme kalitesi gibi birçok değişken birbirine bağlıdır ve bu değişkenlerin optimal bir şekilde yönetilmesi gerekir. Ancak bu değişkenlerin çoğu sürekli ve belirsiz değerler alır, bu da klasik mantık ile yönetimi zorlaştırır. Bu sebeple bulanık mantık burada karşımıza çıkmaktadır.\n",
        "\n",
        "Kontrol Sistemleri: Özellikle elektronik ve mühendislik alanında sıkça kullanılır. Örneğin, otomobillerdeki otomatik klima sistemleri, bir odanın sıcaklığını hassas bir şekilde ayarlamak için bulanık mantığı kullanabilir. Sistem, ortam sıcaklığını ölçer ve kullanıcının konfor sıcaklığına göre ne kadar soğutma veya ısıtma gerektiğini belirler.\n",
        "\n",
        "Ev Aletleri: Bulaşık makineleri, çamaşır makineleri gibi cihazlarda bulanık mantık, su sıcaklığı, yıkama süresi, durulama sayısı gibi ayarlamaları yaparken etkilidir. Örneğin, çamaşır makineleri, çamaşırın kirlilik derecesine göre yıkama süresini belirler.\n",
        "\n",
        "Tıp ve Sağlık: Tıbbi teşhis sistemlerinde bulanık mantık kullanılarak, hastalık belirtileri değerlendirilir ve belirli bir hastalığın olasılığı hesaplanır. Belirtilerin kesin tanımlar içermemesi ve her hastada farklı derecelerde ortaya çıkması bulanık mantığın bu alanda kullanılmasını cazip hale getirir.\n",
        "\n",
        "Yapay Zekâ ve Robotik: Bulanık mantık, robotların çevrelerine adapte olmasını sağlar. Örneğin, otonom bir robot belirli bir engelin etrafından geçerken bulanık mantık algoritmaları kullanarak mesafeyi değerlendirir ve manevra yapar."
      ],
      "metadata": {
        "id": "rbGqer3BHmSU"
      }
    },
    {
      "cell_type": "markdown",
      "source": [],
      "metadata": {
        "id": "knK7L53LHwJt"
      }
    }
  ]
}