{
  "nbformat": 4,
  "nbformat_minor": 0,
  "metadata": {
    "colab": {
      "provenance": []
    },
    "kernelspec": {
      "name": "python3",
      "display_name": "Python 3"
    },
    "language_info": {
      "name": "python"
    }
  },
  "cells": [
    {
      "cell_type": "markdown",
      "source": [
        "#İSTKA SİBER AKADEMİ 28-10-2024 Yapay Zeka Dersi Çalışmaları"
      ],
      "metadata": {
        "id": "c8_xTuuVuysg"
      }
    },
    {
      "cell_type": "markdown",
      "source": [
        "Çalışmalarından faydalandığım değerli hocam Ali ÇETİNKAYA'nın açık kaynak kodlu linki : https://github.com/acetinkaya/ai_igu/tree/main"
      ],
      "metadata": {
        "id": "NYrLejvJuv7I"
      }
    },
    {
      "cell_type": "markdown",
      "source": [
        "#NOTLARIM\n",
        "\n",
        "\n",
        "---\n",
        "\n",
        "\n",
        "\n",
        "#Scikit-Learn\n",
        " Python tabanlı bir makine öğrenimi kütüphanesidir. Çeşitli gözetimli ve gözetimsiz öğrenme algoritmalarını içerir ve veri işleme, model değerlendirme, ve model seçimi gibi süreçler için kapsamlı bir altyapı sunar.\n",
        "\n",
        "#Tensorflow\n",
        " Google tarafından geliştirilen ve derin öğrenme projeleri için kullanılan bir kütüphanedir. Yapay sinir ağlarının oluşturulmasını, eğitimini ve dağıtımını sağlar.\n",
        "\n",
        "#Pytorch\n",
        " Facebook tarafından geliştirilen PyTorch, özellikle araştırmacılar ve akademisyenler arasında popüler olan bir derin öğrenme kütüphanesidir. Esnek yapısı ve dinamik hesaplama grafikleri ile öne çıkar.\n",
        "\n",
        "#Keras\n",
        " Keras, kullanımı kolay ve hızlı bir şekilde model geliştirmek için tasarlanmış bir derin öğrenme kütüphanesidir. Yüksek seviye bir API olarak TensorFlow üzerinde çalışır."
      ],
      "metadata": {
        "id": "xRtK6A7KutaI"
      }
    },
    {
      "cell_type": "code",
      "execution_count": 1,
      "metadata": {
        "colab": {
          "base_uri": "https://localhost:8080/"
        },
        "id": "Zuq6h2P66rDb",
        "outputId": "1dec0de8-28f5-48b1-efa0-d139930fd3d1"
      },
      "outputs": [
        {
          "output_type": "stream",
          "name": "stdout",
          "text": [
            "Merhaba, İGÜ - YAPAY ZEKA\n"
          ]
        }
      ],
      "source": [
        "print(\"Merhaba, İGÜ - YAPAY ZEKA\") # print ekrana çıktı veren bir koddur."
      ]
    },
    {
      "cell_type": "code",
      "source": [
        "import sys # import python programlama dilinde yazılıma kütüphane eklemeye yarayan bir kod blogudur.\n",
        "print(sys.version)"
      ],
      "metadata": {
        "colab": {
          "base_uri": "https://localhost:8080/"
        },
        "id": "lWnOmNdZ6xD1",
        "outputId": "d0f433b5-b061-4718-9867-4234498bf432"
      },
      "execution_count": 2,
      "outputs": [
        {
          "output_type": "stream",
          "name": "stdout",
          "text": [
            "3.10.12 (main, Sep 11 2024, 15:47:36) [GCC 11.4.0]\n"
          ]
        }
      ]
    },
    {
      "cell_type": "code",
      "source": [
        "from google.colab import drive # google colab - drive bağlantısı\n",
        "drive.mount('/content/drive')"
      ],
      "metadata": {
        "colab": {
          "base_uri": "https://localhost:8080/"
        },
        "id": "q_TerD8p6zxl",
        "outputId": "0051acc3-ea7b-46bd-9482-678ae58bb625"
      },
      "execution_count": 3,
      "outputs": [
        {
          "output_type": "stream",
          "name": "stdout",
          "text": [
            "Drive already mounted at /content/drive; to attempt to forcibly remount, call drive.mount(\"/content/drive\", force_remount=True).\n"
          ]
        }
      ]
    },
    {
      "cell_type": "code",
      "source": [
        "import os\n",
        "os.chdir('/content/drive/MyDrive/igu_Yapay_Zeka')\n",
        "!pwd # bize kodun çıktısını dosya yolu olarak veren kod blogudur."
      ],
      "metadata": {
        "colab": {
          "base_uri": "https://localhost:8080/"
        },
        "id": "ljRT53Dg61fd",
        "outputId": "f0b87ed7-3cb5-48d3-d1ea-c07071242f03"
      },
      "execution_count": 4,
      "outputs": [
        {
          "output_type": "stream",
          "name": "stdout",
          "text": [
            "/content/drive/MyDrive/igu_Yapay_Zeka\n"
          ]
        }
      ]
    },
    {
      "cell_type": "markdown",
      "source": [
        "TensorFlow kütüphanesi:\n",
        "\n",
        "!pip install tensorflow\n",
        "\n",
        "!pip install tensorflow-gpu\n",
        "\n"
      ],
      "metadata": {
        "id": "k9YgPBTfvCEh"
      }
    },
    {
      "cell_type": "code",
      "source": [
        "\n",
        "# TensorFlow kütüphanesinin sisteme dahil edilmesi ve veri setinin işleme alınması\n",
        "\n",
        "#!pip install pydot\n",
        "#!apt-get install graphviz\n",
        "\n",
        "# Bu iki kütüphane ile oluşturulan yapay zeka modelinin yapısını çıktı alabileceğiz."
      ],
      "metadata": {
        "colab": {
          "base_uri": "https://localhost:8080/"
        },
        "id": "6Os8B86A63CF",
        "outputId": "9658d5f2-059a-4646-f4a6-78e776f0f730"
      },
      "execution_count": null,
      "outputs": [
        {
          "output_type": "stream",
          "name": "stdout",
          "text": [
            "Requirement already satisfied: pydot in /usr/local/lib/python3.10/dist-packages (3.0.2)\n",
            "Requirement already satisfied: pyparsing>=3.0.9 in /usr/local/lib/python3.10/dist-packages (from pydot) (3.2.0)\n",
            "Reading package lists... Done\n",
            "Building dependency tree... Done\n",
            "Reading state information... Done\n",
            "graphviz is already the newest version (2.42.2-6ubuntu0.1).\n",
            "0 upgraded, 0 newly installed, 0 to remove and 49 not upgraded.\n"
          ]
        }
      ]
    },
    {
      "cell_type": "markdown",
      "source": [
        "\n",
        "##TensorFlow kütüphanesi:\n",
        "!pip install tensorflow\n",
        "\n",
        "!pip install tensorflow-gpu"
      ],
      "metadata": {
        "id": "o1lX7reY9e_c"
      }
    },
    {
      "cell_type": "code",
      "source": [
        "!pip install tensorflow\n",
        "\n",
        "#!pip install tensorflow-gpu"
      ],
      "metadata": {
        "colab": {
          "base_uri": "https://localhost:8080/"
        },
        "id": "CgIaENGBIYzU",
        "outputId": "7f7ae1d1-e6cd-4e04-b12d-044309ea62f2"
      },
      "execution_count": 5,
      "outputs": [
        {
          "output_type": "stream",
          "name": "stdout",
          "text": [
            "Requirement already satisfied: tensorflow in /usr/local/lib/python3.10/dist-packages (2.17.0)\n",
            "Requirement already satisfied: absl-py>=1.0.0 in /usr/local/lib/python3.10/dist-packages (from tensorflow) (1.4.0)\n",
            "Requirement already satisfied: astunparse>=1.6.0 in /usr/local/lib/python3.10/dist-packages (from tensorflow) (1.6.3)\n",
            "Requirement already satisfied: flatbuffers>=24.3.25 in /usr/local/lib/python3.10/dist-packages (from tensorflow) (24.3.25)\n",
            "Requirement already satisfied: gast!=0.5.0,!=0.5.1,!=0.5.2,>=0.2.1 in /usr/local/lib/python3.10/dist-packages (from tensorflow) (0.6.0)\n",
            "Requirement already satisfied: google-pasta>=0.1.1 in /usr/local/lib/python3.10/dist-packages (from tensorflow) (0.2.0)\n",
            "Requirement already satisfied: h5py>=3.10.0 in /usr/local/lib/python3.10/dist-packages (from tensorflow) (3.11.0)\n",
            "Requirement already satisfied: libclang>=13.0.0 in /usr/local/lib/python3.10/dist-packages (from tensorflow) (18.1.1)\n",
            "Requirement already satisfied: ml-dtypes<0.5.0,>=0.3.1 in /usr/local/lib/python3.10/dist-packages (from tensorflow) (0.4.1)\n",
            "Requirement already satisfied: opt-einsum>=2.3.2 in /usr/local/lib/python3.10/dist-packages (from tensorflow) (3.4.0)\n",
            "Requirement already satisfied: packaging in /usr/local/lib/python3.10/dist-packages (from tensorflow) (24.1)\n",
            "Requirement already satisfied: protobuf!=4.21.0,!=4.21.1,!=4.21.2,!=4.21.3,!=4.21.4,!=4.21.5,<5.0.0dev,>=3.20.3 in /usr/local/lib/python3.10/dist-packages (from tensorflow) (3.20.3)\n",
            "Requirement already satisfied: requests<3,>=2.21.0 in /usr/local/lib/python3.10/dist-packages (from tensorflow) (2.32.3)\n",
            "Requirement already satisfied: setuptools in /usr/local/lib/python3.10/dist-packages (from tensorflow) (75.1.0)\n",
            "Requirement already satisfied: six>=1.12.0 in /usr/local/lib/python3.10/dist-packages (from tensorflow) (1.16.0)\n",
            "Requirement already satisfied: termcolor>=1.1.0 in /usr/local/lib/python3.10/dist-packages (from tensorflow) (2.5.0)\n",
            "Requirement already satisfied: typing-extensions>=3.6.6 in /usr/local/lib/python3.10/dist-packages (from tensorflow) (4.12.2)\n",
            "Requirement already satisfied: wrapt>=1.11.0 in /usr/local/lib/python3.10/dist-packages (from tensorflow) (1.16.0)\n",
            "Requirement already satisfied: grpcio<2.0,>=1.24.3 in /usr/local/lib/python3.10/dist-packages (from tensorflow) (1.64.1)\n",
            "Requirement already satisfied: tensorboard<2.18,>=2.17 in /usr/local/lib/python3.10/dist-packages (from tensorflow) (2.17.0)\n",
            "Requirement already satisfied: keras>=3.2.0 in /usr/local/lib/python3.10/dist-packages (from tensorflow) (3.4.1)\n",
            "Requirement already satisfied: tensorflow-io-gcs-filesystem>=0.23.1 in /usr/local/lib/python3.10/dist-packages (from tensorflow) (0.37.1)\n",
            "Requirement already satisfied: numpy<2.0.0,>=1.23.5 in /usr/local/lib/python3.10/dist-packages (from tensorflow) (1.26.4)\n",
            "Requirement already satisfied: wheel<1.0,>=0.23.0 in /usr/local/lib/python3.10/dist-packages (from astunparse>=1.6.0->tensorflow) (0.44.0)\n",
            "Requirement already satisfied: rich in /usr/local/lib/python3.10/dist-packages (from keras>=3.2.0->tensorflow) (13.9.3)\n",
            "Requirement already satisfied: namex in /usr/local/lib/python3.10/dist-packages (from keras>=3.2.0->tensorflow) (0.0.8)\n",
            "Requirement already satisfied: optree in /usr/local/lib/python3.10/dist-packages (from keras>=3.2.0->tensorflow) (0.13.0)\n",
            "Requirement already satisfied: charset-normalizer<4,>=2 in /usr/local/lib/python3.10/dist-packages (from requests<3,>=2.21.0->tensorflow) (3.4.0)\n",
            "Requirement already satisfied: idna<4,>=2.5 in /usr/local/lib/python3.10/dist-packages (from requests<3,>=2.21.0->tensorflow) (3.10)\n",
            "Requirement already satisfied: urllib3<3,>=1.21.1 in /usr/local/lib/python3.10/dist-packages (from requests<3,>=2.21.0->tensorflow) (2.2.3)\n",
            "Requirement already satisfied: certifi>=2017.4.17 in /usr/local/lib/python3.10/dist-packages (from requests<3,>=2.21.0->tensorflow) (2024.8.30)\n",
            "Requirement already satisfied: markdown>=2.6.8 in /usr/local/lib/python3.10/dist-packages (from tensorboard<2.18,>=2.17->tensorflow) (3.7)\n",
            "Requirement already satisfied: tensorboard-data-server<0.8.0,>=0.7.0 in /usr/local/lib/python3.10/dist-packages (from tensorboard<2.18,>=2.17->tensorflow) (0.7.2)\n",
            "Requirement already satisfied: werkzeug>=1.0.1 in /usr/local/lib/python3.10/dist-packages (from tensorboard<2.18,>=2.17->tensorflow) (3.0.4)\n",
            "Requirement already satisfied: MarkupSafe>=2.1.1 in /usr/local/lib/python3.10/dist-packages (from werkzeug>=1.0.1->tensorboard<2.18,>=2.17->tensorflow) (3.0.2)\n",
            "Requirement already satisfied: markdown-it-py>=2.2.0 in /usr/local/lib/python3.10/dist-packages (from rich->keras>=3.2.0->tensorflow) (3.0.0)\n",
            "Requirement already satisfied: pygments<3.0.0,>=2.13.0 in /usr/local/lib/python3.10/dist-packages (from rich->keras>=3.2.0->tensorflow) (2.18.0)\n",
            "Requirement already satisfied: mdurl~=0.1 in /usr/local/lib/python3.10/dist-packages (from markdown-it-py>=2.2.0->rich->keras>=3.2.0->tensorflow) (0.1.2)\n"
          ]
        }
      ]
    },
    {
      "cell_type": "code",
      "source": [
        "import tensorflow as tf\n",
        "from tensorflow import keras\n",
        "from keras import layers, models\n",
        "from keras.datasets import mnist\n",
        "from keras.utils import plot_model\n",
        "\n",
        "(x_train, y_train), (x_test, y_test) = mnist.load_data() # MNIST veri setini yükleme\n",
        "x_train, x_test = x_train / 255.0, x_test / 255.0\n",
        "!pwd"
      ],
      "metadata": {
        "colab": {
          "base_uri": "https://localhost:8080/"
        },
        "id": "5DZWvdh89UVU",
        "outputId": "247aec20-5676-4bc6-82c4-2dfcb683ade8"
      },
      "execution_count": 6,
      "outputs": [
        {
          "output_type": "stream",
          "name": "stdout",
          "text": [
            "Downloading data from https://storage.googleapis.com/tensorflow/tf-keras-datasets/mnist.npz\n",
            "\u001b[1m11490434/11490434\u001b[0m \u001b[32m━━━━━━━━━━━━━━━━━━━━\u001b[0m\u001b[37m\u001b[0m \u001b[1m0s\u001b[0m 0us/step\n",
            "/content/drive/MyDrive/igu_Yapay_Zeka\n"
          ]
        }
      ]
    },
    {
      "cell_type": "markdown",
      "source": [
        "\n",
        "#Yapay zeka modeli oluşturmada aşamalar;\n"
      ],
      "metadata": {
        "id": "D_NveWmQ9bwE"
      }
    },
    {
      "cell_type": "markdown",
      "source": [
        "models.Sequential(): Modelin katmanlarını sıralı bir şekilde eklememizi sağlar.\n",
        "\n",
        "layers.Flatten(): Giriş verisini (28x28 boyutundaki resimler) tek boyutlu hale getirir.\n",
        "\n",
        "layers.Dense(128, activation='relu'): 128 nörondan oluşan bir yoğun katman ekler ve ReLU aktivasyon fonksiyonunu kullanır.\n",
        "\n",
        "layers.Dropout(0.2): Aşırı öğrenmeyi önlemek için eğitim sırasında nöronların %20'sini rastgele kapatır.\n",
        "\n",
        "layers.Dense(10, activation='softmax'): Son katman, 10 sınıfa sahip olduğu için 10 nörondan oluşur ve softmax aktivasyon fonksiyonu kullanır, bu sayede her sınıfa ait olasılıkları verir."
      ],
      "metadata": {
        "id": "IisCzb9fyLfQ"
      }
    },
    {
      "cell_type": "code",
      "source": [
        "model = models.Sequential([ # Modeli oluşturma\n",
        "    layers.Flatten(input_shape=(28, 28)),\n",
        "    layers.Dense(128, activation='relu'),\n",
        "    layers.Dropout(0.2),\n",
        "    layers.Dense(10, activation='softmax')\n",
        "])"
      ],
      "metadata": {
        "colab": {
          "base_uri": "https://localhost:8080/"
        },
        "id": "yhQKVMuS9Z0N",
        "outputId": "069518e1-2d35-4490-a4b8-2145d47861d7"
      },
      "execution_count": 7,
      "outputs": [
        {
          "output_type": "stream",
          "name": "stderr",
          "text": [
            "/usr/local/lib/python3.10/dist-packages/keras/src/layers/reshaping/flatten.py:37: UserWarning: Do not pass an `input_shape`/`input_dim` argument to a layer. When using Sequential models, prefer using an `Input(shape)` object as the first layer in the model instead.\n",
            "  super().__init__(**kwargs)\n"
          ]
        }
      ]
    },
    {
      "cell_type": "markdown",
      "source": [
        "#Modelin eğitim süreci"
      ],
      "metadata": {
        "id": "ecidvagB9n48"
      }
    },
    {
      "cell_type": "markdown",
      "source": [
        "optimizer='adam': Adam optimizasyon algoritması kullanılarak modelin ağırlıkları güncellenir.\n",
        "\n",
        "loss='sparse_categorical_crossentropy': Çoklu sınıf problemleri için uygun bir kayıp fonksiyonu seçilir. Etiketler tamsayı olarak verilir.\n",
        "\n",
        "metrics=['accuracy']: Modelin doğruluğunu değerlendirmek için doğruluk metriği eklenir."
      ],
      "metadata": {
        "id": "F5eULd4qyeEP"
      }
    },
    {
      "cell_type": "code",
      "source": [
        "model.compile(optimizer='adam', # Modeli derleme\n",
        "              loss='sparse_categorical_crossentropy',\n",
        "              metrics=['accuracy'])"
      ],
      "metadata": {
        "id": "5nDb3uA_9sPG"
      },
      "execution_count": 8,
      "outputs": []
    },
    {
      "cell_type": "markdown",
      "source": [
        "#Modelin eğitim süreci\n",
        "\n",
        "\n",
        "---\n",
        "\n",
        "model eğitim işlemi --> model.fit()\n",
        "\n",
        "---\n",
        "\n",
        "model eğitim işlemi --> model.fit(x_train, y_train, ...)\n",
        "\n",
        "---\n",
        "\n",
        "Eğitim Adım Sayısı --> epochs=5\n",
        "\n",
        "\n",
        "---\n",
        "\n"
      ],
      "metadata": {
        "id": "Xzai9NAB9uPs"
      }
    },
    {
      "cell_type": "markdown",
      "source": [
        "plot_model(): Modelin mimarisini görselleştirir ve belirtilen dosya yoluna kaydeder. show_shapes=True ile katmanların boyutları gösterilir,\n",
        "\n",
        "show_layer_names=True ile katman isimleri görünür hale getirilir.\n"
      ],
      "metadata": {
        "id": "5yl1rutnysCn"
      }
    },
    {
      "cell_type": "code",
      "source": [
        "model.fit(x_train, y_train, epochs=5) # Modeli Eğitilmesi Adımı\n",
        "\n",
        "# Modeli görselleştirmek ve çalışma alanına kaydetmek için plot_model kullanımı\n",
        "plot_model(model, to_file='/content/drive/MyDrive/YZ_Model/yz_tensoflow_model_ciktisi.png', show_shapes=True, show_layer_names=True) # Modelin Çıktısı\n"
      ],
      "metadata": {
        "colab": {
          "base_uri": "https://localhost:8080/",
          "height": 1000
        },
        "id": "_Oo-z9LH97f1",
        "outputId": "1f0bc1c7-42fe-4c77-fa64-24b1bde61b0a"
      },
      "execution_count": 9,
      "outputs": [
        {
          "output_type": "stream",
          "name": "stdout",
          "text": [
            "Epoch 1/5\n",
            "\u001b[1m1875/1875\u001b[0m \u001b[32m━━━━━━━━━━━━━━━━━━━━\u001b[0m\u001b[37m\u001b[0m \u001b[1m9s\u001b[0m 4ms/step - accuracy: 0.8587 - loss: 0.4828\n",
            "Epoch 2/5\n",
            "\u001b[1m1875/1875\u001b[0m \u001b[32m━━━━━━━━━━━━━━━━━━━━\u001b[0m\u001b[37m\u001b[0m \u001b[1m5s\u001b[0m 3ms/step - accuracy: 0.9581 - loss: 0.1478\n",
            "Epoch 3/5\n",
            "\u001b[1m1875/1875\u001b[0m \u001b[32m━━━━━━━━━━━━━━━━━━━━\u001b[0m\u001b[37m\u001b[0m \u001b[1m12s\u001b[0m 4ms/step - accuracy: 0.9673 - loss: 0.1062\n",
            "Epoch 4/5\n",
            "\u001b[1m1875/1875\u001b[0m \u001b[32m━━━━━━━━━━━━━━━━━━━━\u001b[0m\u001b[37m\u001b[0m \u001b[1m5s\u001b[0m 3ms/step - accuracy: 0.9736 - loss: 0.0864\n",
            "Epoch 5/5\n",
            "\u001b[1m1875/1875\u001b[0m \u001b[32m━━━━━━━━━━━━━━━━━━━━\u001b[0m\u001b[37m\u001b[0m \u001b[1m9s\u001b[0m 5ms/step - accuracy: 0.9782 - loss: 0.0702\n"
          ]
        },
        {
          "output_type": "execute_result",
          "data": {
            "image/png": "[encoded data removed]",
            "text/plain": [
              "<IPython.core.display.Image object>"
            ]
          },
          "metadata": {},
          "execution_count": 9
        }
      ]
    },
    {
      "cell_type": "markdown",
      "source": [
        "\n",
        "\n",
        "---\n",
        "\n"
      ],
      "metadata": {
        "id": "rqH6NzfYy4e_"
      }
    },
    {
      "cell_type": "markdown",
      "source": [
        "Modelin doğruluk ve hata oranı yüzde olarak yazdırılır. Bu sonuçlar, modelin test verisi üzerindeki başarısını gösterir."
      ],
      "metadata": {
        "id": "tK0tWCvby20Q"
      }
    },
    {
      "cell_type": "code",
      "source": [
        "\n",
        "# Test seti üzerinde modelin performansını değerlendirme\n",
        "\n",
        "hata_oranı, basarı_oranı = model.evaluate(x_test, y_test, verbose=2)\n",
        "\n",
        "print(\" Modelin Doğruluk Oranı: %\", basarı_oranı*100)\n",
        "print(\" Modelin Hata Oranı: %\", hata_oranı*100)"
      ],
      "metadata": {
        "colab": {
          "base_uri": "https://localhost:8080/"
        },
        "id": "vHqFyM8YSJAF",
        "outputId": "8a7c141b-0d9a-4a87-df01-10e434b7cd5e"
      },
      "execution_count": 10,
      "outputs": [
        {
          "output_type": "stream",
          "name": "stdout",
          "text": [
            "313/313 - 1s - 3ms/step - accuracy: 0.9739 - loss: 0.0820\n",
            " Modelin Doğruluk Oranı: % 97.39000201225281\n",
            " Modelin Hata Oranı: % 8.199494332075119\n"
          ]
        }
      ]
    },
    {
      "cell_type": "markdown",
      "source": [
        "\n",
        "---\n",
        "\n"
      ],
      "metadata": {
        "id": "XlY69Zi5y8So"
      }
    },
    {
      "cell_type": "markdown",
      "source": [
        "#PyTorch kütüphanesi:\n",
        "\n",
        "!pip install torch torchvision torchaudio\n"
      ],
      "metadata": {
        "id": "997RUKPnv81h"
      }
    },
    {
      "cell_type": "markdown",
      "source": [
        "###torchvision: Görüntü işleme ve veri setleri ile ilgili araçlar sağlar."
      ],
      "metadata": {
        "id": "2xC8SG_JzSHX"
      }
    },
    {
      "cell_type": "code",
      "source": [
        "!pip install torch torchvision torchaudio"
      ],
      "metadata": {
        "colab": {
          "base_uri": "https://localhost:8080/"
        },
        "id": "M2aIKFjOSLu7",
        "outputId": "59c65967-2849-49a6-88ff-fee9e0555517"
      },
      "execution_count": 11,
      "outputs": [
        {
          "output_type": "stream",
          "name": "stdout",
          "text": [
            "Requirement already satisfied: torch in /usr/local/lib/python3.10/dist-packages (2.5.0+cu121)\n",
            "Requirement already satisfied: torchvision in /usr/local/lib/python3.10/dist-packages (0.20.0+cu121)\n",
            "Requirement already satisfied: torchaudio in /usr/local/lib/python3.10/dist-packages (2.5.0+cu121)\n",
            "Requirement already satisfied: filelock in /usr/local/lib/python3.10/dist-packages (from torch) (3.16.1)\n",
            "Requirement already satisfied: typing-extensions>=4.8.0 in /usr/local/lib/python3.10/dist-packages (from torch) (4.12.2)\n",
            "Requirement already satisfied: networkx in /usr/local/lib/python3.10/dist-packages (from torch) (3.4.2)\n",
            "Requirement already satisfied: jinja2 in /usr/local/lib/python3.10/dist-packages (from torch) (3.1.4)\n",
            "Requirement already satisfied: fsspec in /usr/local/lib/python3.10/dist-packages (from torch) (2024.6.1)\n",
            "Requirement already satisfied: sympy==1.13.1 in /usr/local/lib/python3.10/dist-packages (from torch) (1.13.1)\n",
            "Requirement already satisfied: mpmath<1.4,>=1.1.0 in /usr/local/lib/python3.10/dist-packages (from sympy==1.13.1->torch) (1.3.0)\n",
            "Requirement already satisfied: numpy in /usr/local/lib/python3.10/dist-packages (from torchvision) (1.26.4)\n",
            "Requirement already satisfied: pillow!=8.3.*,>=5.3.0 in /usr/local/lib/python3.10/dist-packages (from torchvision) (10.4.0)\n",
            "Requirement already satisfied: MarkupSafe>=2.0 in /usr/local/lib/python3.10/dist-packages (from jinja2->torch) (3.0.2)\n"
          ]
        }
      ]
    },
    {
      "cell_type": "markdown",
      "source": [
        "transforms: Veriyi tensör haline getirir ve normalizasyon uygular.\n",
        "\n",
        "datasets.MNIST: MNIST veri setini yükler; eğitim ve test setlerini ayırır.\n",
        "\n",
        "DataLoader: Veriyi mini-batch'ler halinde yüklemek için kullanılır.\n",
        "\n",
        "nn.Module: PyTorch modelinin temel sınıfı.\n",
        "\n",
        "fc1 ve fc2: İki yoğun (fully connected) katman tanımlanır.\n",
        "\n",
        "forward(): Modelin ileri geçişini (forward pass) tanımlar. Giriş verisi düzleştirilir ve katmanlardan geçirilir.\n",
        "\n",
        "criterion: Sınıflandırma işlemi için CrossEntropyLoss kullanılarak kaybı hesaplıyor.\n",
        "\n",
        "optimizer: Stochastic Gradient Descent (SGD) optimizasyon algoritması, öğrenme oranı (lr=0.01) ile belirleniyor.\n",
        "\n",
        "for epoch in range(50): Modeli 50 epoch boyunca eğitiyor.\n",
        "\n",
        "optimizer.zero_grad(): Optimizasyon değişkenlerini sıfırlıyor.\n",
        "\n",
        "model(images): Model giriş görüntülerini işleyerek tahminler yapıyor.\n",
        "\n",
        "loss.backward(): Geriye yayılım yaparak modelin ağırlıklarını güncellemek için gradyanları hesaplıyor.\n",
        "\n",
        "optimizer.step(): Ağırlıkları optimize ediyor.\n",
        "\n",
        "running_loss: Her epoch sonunda kayıp değerini topluyor.\n",
        "\n",
        "train_losses ve train_accuracies: Kayıp ve doğruluk değerlerini saklıyor."
      ],
      "metadata": {
        "id": "VnR46MhuzmQQ"
      }
    },
    {
      "cell_type": "code",
      "source": [
        "import torch\n",
        "import torch.nn as nn\n",
        "import torch.optim as optim\n",
        "from torchvision import datasets, transforms\n",
        "import matplotlib.pyplot as plt\n",
        "\n",
        "# MNIST veri setini yükleme\n",
        "transform = transforms.Compose([transforms.ToTensor(), transforms.Normalize((0.5,), (0.5,))])\n",
        "train_set = datasets.MNIST('./data', train=True, download=True, transform=transform)\n",
        "test_set = datasets.MNIST('./data', train=False, transform=transform)\n",
        "\n",
        "train_loader = torch.utils.data.DataLoader(train_set, batch_size=64, shuffle=True)\n",
        "test_loader = torch.utils.data.DataLoader(test_set, batch_size=64, shuffle=False)\n",
        "\n",
        "# Modeli oluşturma\n",
        "class Net(nn.Module):\n",
        "    def __init__(self):\n",
        "        super(Net, self).__init__()\n",
        "        self.fc1 = nn.Linear(28 * 28, 128)\n",
        "        self.fc2 = nn.Linear(128, 10)\n",
        "\n",
        "    def forward(self, x):\n",
        "        x = x.view(-1, 28 * 28)\n",
        "        x = torch.relu(self.fc1(x))\n",
        "        x = self.fc2(x)\n",
        "        return x\n",
        "\n",
        "model = Net()\n",
        "\n",
        "# Kayıp fonksiyonu ve optimizer\n",
        "criterion = nn.CrossEntropyLoss()\n",
        "optimizer = optim.SGD(model.parameters(), lr=0.01)\n",
        "\n",
        "# Eğitim için boş listeler tanımla\n",
        "train_losses = []\n",
        "train_accuracies = []\n",
        "\n",
        "# Eğitme döngüsü\n",
        "for epoch in range(50):  # 50 epoch boyunca eğit\n",
        "    running_loss = 0.0\n",
        "    correct = 0\n",
        "    total = 0\n",
        "\n",
        "    for images, labels in train_loader:\n",
        "        optimizer.zero_grad()\n",
        "        output = model(images)\n",
        "        loss = criterion(output, labels)\n",
        "        loss.backward()\n",
        "        optimizer.step()\n",
        "\n",
        "        # Kayıp (loss) değerini topla\n",
        "        running_loss += loss.item()\n",
        "\n",
        "        # Doğruluğu hesapla\n",
        "        _, predicted = torch.max(output, 1)\n",
        "        total += labels.size(0)\n",
        "        correct += (predicted == labels).sum().item()\n",
        "\n",
        "    # Her epoch sonunda ortalama kayıp ve doğruluk\n",
        "    epoch_loss = running_loss / len(train_loader)\n",
        "    epoch_accuracy = 100 * correct / total\n",
        "    train_losses.append(epoch_loss)\n",
        "    train_accuracies.append(epoch_accuracy)\n",
        "\n",
        "    print(f'Epoch {epoch+1}, Loss: {epoch_loss}, Accuracy: {epoch_accuracy}%')\n",
        "\n",
        "print('Eğitim tamamlandı!')\n",
        "\n",
        "# Eğitim sonuçlarını grafikle göster\n",
        "epochs = range(1, 51)  # 50 epoch olduğu için 1'den 51'ya kadar olan epoch'lar\n",
        "plt.figure(figsize=(12, 5))\n",
        "\n",
        "# Kayıp grafiği\n",
        "plt.subplot(1, 2, 1)\n",
        "plt.plot(epochs, train_losses, 'bo-', label='Eğitim Kaybı (Loss)')\n",
        "plt.title('Eğitim Kaybı')\n",
        "plt.xlabel('Epochs')\n",
        "plt.ylabel('Loss')\n",
        "plt.legend()\n",
        "\n",
        "# Doğruluk grafiği\n",
        "plt.subplot(1, 2, 2)\n",
        "plt.plot(epochs, train_accuracies, 'go-', label='Eğitim Doğruluğu (Accuracy)')\n",
        "plt.title('Eğitim Doğruluğu')\n",
        "plt.xlabel('Epochs')\n",
        "plt.ylabel('Accuracy (%)')\n",
        "plt.legend()\n",
        "\n",
        "plt.tight_layout()\n",
        "plt.show()"
      ],
      "metadata": {
        "colab": {
          "base_uri": "https://localhost:8080/",
          "height": 1000
        },
        "id": "fGinSulbSPhc",
        "outputId": "25c56793-69c5-4f74-f260-228e1ec2accd"
      },
      "execution_count": 12,
      "outputs": [
        {
          "output_type": "stream",
          "name": "stdout",
          "text": [
            "Epoch 1, Loss: 0.739923857311323, Accuracy: 81.73166666666667%\n",
            "Epoch 2, Loss: 0.36574004005902866, Accuracy: 89.55666666666667%\n",
            "Epoch 3, Loss: 0.31977822690376084, Accuracy: 90.705%\n",
            "Epoch 4, Loss: 0.29351749955845285, Accuracy: 91.53666666666666%\n",
            "Epoch 5, Loss: 0.273765157876429, Accuracy: 92.11%\n",
            "Epoch 6, Loss: 0.25627002058856524, Accuracy: 92.66%\n",
            "Epoch 7, Loss: 0.24011086289292333, Accuracy: 93.165%\n",
            "Epoch 8, Loss: 0.22502633643302836, Accuracy: 93.605%\n",
            "Epoch 9, Loss: 0.21140729533488561, Accuracy: 94.03333333333333%\n",
            "Epoch 10, Loss: 0.19870857179546153, Accuracy: 94.36666666666666%\n",
            "Epoch 11, Loss: 0.18766998635060878, Accuracy: 94.69666666666667%\n",
            "Epoch 12, Loss: 0.1774401260432658, Accuracy: 95.02666666666667%\n",
            "Epoch 13, Loss: 0.1679257513649428, Accuracy: 95.27333333333333%\n",
            "Epoch 14, Loss: 0.15949926864919758, Accuracy: 95.53333333333333%\n",
            "Epoch 15, Loss: 0.15185362163152713, Accuracy: 95.71%\n",
            "Epoch 16, Loss: 0.14494065688585422, Accuracy: 95.91833333333334%\n",
            "Epoch 17, Loss: 0.13852410895158168, Accuracy: 96.13333333333334%\n",
            "Epoch 18, Loss: 0.1327989906120275, Accuracy: 96.27166666666666%\n",
            "Epoch 19, Loss: 0.12704655834074532, Accuracy: 96.39%\n",
            "Epoch 20, Loss: 0.1218072590308943, Accuracy: 96.60166666666667%\n",
            "Epoch 21, Loss: 0.11734259379173774, Accuracy: 96.67333333333333%\n",
            "Epoch 22, Loss: 0.1131334268102752, Accuracy: 96.78333333333333%\n",
            "Epoch 23, Loss: 0.10880977403658476, Accuracy: 96.94666666666667%\n",
            "Epoch 24, Loss: 0.10538577863466003, Accuracy: 97.09666666666666%\n",
            "Epoch 25, Loss: 0.10149167335208958, Accuracy: 97.14833333333333%\n",
            "Epoch 26, Loss: 0.09837100936223005, Accuracy: 97.25666666666666%\n",
            "Epoch 27, Loss: 0.09510706031996845, Accuracy: 97.33833333333334%\n",
            "Epoch 28, Loss: 0.09233508367083475, Accuracy: 97.40833333333333%\n",
            "Epoch 29, Loss: 0.08965225508416703, Accuracy: 97.51%\n",
            "Epoch 30, Loss: 0.0871601102204481, Accuracy: 97.54166666666667%\n",
            "Epoch 31, Loss: 0.08448744850701836, Accuracy: 97.60333333333334%\n",
            "Epoch 32, Loss: 0.082136259335818, Accuracy: 97.69%\n",
            "Epoch 33, Loss: 0.08020407042460147, Accuracy: 97.73333333333333%\n",
            "Epoch 34, Loss: 0.07773140068156029, Accuracy: 97.85333333333334%\n",
            "Epoch 35, Loss: 0.07588374034177933, Accuracy: 97.89333333333333%\n",
            "Epoch 36, Loss: 0.07396253158272838, Accuracy: 97.95333333333333%\n",
            "Epoch 37, Loss: 0.07212977925651093, Accuracy: 97.99666666666667%\n",
            "Epoch 38, Loss: 0.07040653958805461, Accuracy: 98.03833333333333%\n",
            "Epoch 39, Loss: 0.06864432739451337, Accuracy: 98.095%\n",
            "Epoch 40, Loss: 0.06678062756118902, Accuracy: 98.14333333333333%\n",
            "Epoch 41, Loss: 0.06557541951310755, Accuracy: 98.165%\n",
            "Epoch 42, Loss: 0.06402219847631035, Accuracy: 98.25833333333334%\n",
            "Epoch 43, Loss: 0.062418396729153836, Accuracy: 98.30166666666666%\n",
            "Epoch 44, Loss: 0.06107671535474612, Accuracy: 98.33333333333333%\n",
            "Epoch 45, Loss: 0.059905022536632796, Accuracy: 98.34666666666666%\n",
            "Epoch 46, Loss: 0.058647661625759115, Accuracy: 98.4%\n",
            "Epoch 47, Loss: 0.05727246081603488, Accuracy: 98.43666666666667%\n",
            "Epoch 48, Loss: 0.05617233744012252, Accuracy: 98.46333333333334%\n",
            "Epoch 49, Loss: 0.054964318793556934, Accuracy: 98.535%\n",
            "Epoch 50, Loss: 0.053685126513905966, Accuracy: 98.58833333333334%\n",
            "Eğitim tamamlandı!\n"
          ]
        },
        {
          "output_type": "display_data",
          "data": {
            "text/plain": [
              "<Figure size 1200x500 with 2 Axes>"
            ],
            "image/png": "[encoded data removed]"
          },
          "metadata": {}
        }
      ]
    },
    {
      "cell_type": "markdown",
      "source": [
        "test_loss: Test verisi üzerindeki toplam kaybı tutmak için.\n",
        "\n",
        "correct: Modelin doğru sınıflandırdığı test örneklerinin sayısı.\n",
        "\n",
        "total: Test setindeki toplam veri sayısı.\n",
        "\n",
        "torch.no_grad(): Test işlemi sırasında gradyan hesaplamasını devre dışı bırakır, böylece bellek kullanımı ve hız açısından avantaj sağlar.\n",
        "\n",
        "test_loss += loss.item(): Modelin her bir batch için hesapladığı kaybı test_loss'a ekler.\n",
        "\n",
        "predicted: Her bir örnek için modelin en yüksek olasılıklı tahminini alır ve bu tahminle etiketleri (labels) karşılaştırarak doğru tahmin sayısını toplar.\n",
        "\n",
        "test_loss /= len(test_loader): Toplam test kaybını batch sayısına bölerek ortalama kaybı elde eder.\n",
        "\n",
        "test_accuracy = 100 * correct / total: Doğru tahmin oranını yüzdelik olarak hesaplar.\n"
      ],
      "metadata": {
        "id": "nrZRAYY15kmD"
      }
    },
    {
      "cell_type": "code",
      "source": [
        "# Test verisi üzerinde modelin performansını değerlendirme\n",
        "test_loss = 0.0\n",
        "correct = 0\n",
        "total = 0\n",
        "\n",
        "# Test verisi üzerinde modelin kaybını ve doğruluğunu hesapla (gradyan hesaplama yok)\n",
        "with torch.no_grad():\n",
        "    for images, labels in test_loader:\n",
        "        output = model(images)\n",
        "        loss = criterion(output, labels)\n",
        "        test_loss += loss.item()\n",
        "\n",
        "        _, predicted = torch.max(output, 1)\n",
        "        total += labels.size(0)\n",
        "        correct += (predicted == labels).sum().item()\n",
        "\n",
        "# Test seti kaybı ve doğruluğu\n",
        "test_loss /= len(test_loader)\n",
        "test_accuracy = 100 * correct / total\n",
        "\n",
        "#Test verisi üzerindeki ortalama kayıp ve doğruluk yüzdesini ekrana yazdırır.\n",
        "print(\"Test Seti Kaybı: \", test_loss)\n",
        "print(\"Test Seti Doğruluğu: \", test_accuracy , \"%\")"
      ],
      "metadata": {
        "id": "36PDyhB0VlK0",
        "colab": {
          "base_uri": "https://localhost:8080/"
        },
        "outputId": "b47fde84-4ac3-4a7c-91df-53d1dac847ed"
      },
      "execution_count": 14,
      "outputs": [
        {
          "output_type": "stream",
          "name": "stdout",
          "text": [
            "Test Seti Kaybı:  0.08179200358932043\n",
            "Test Seti Doğruluğu:  97.54 %\n"
          ]
        }
      ]
    },
    {
      "cell_type": "markdown",
      "source": [
        "#Keras kütüphanesi:"
      ],
      "metadata": {
        "id": "Wk9l7UhrwEbp"
      }
    },
    {
      "cell_type": "code",
      "source": [
        "!pip install keras"
      ],
      "metadata": {
        "colab": {
          "base_uri": "https://localhost:8080/"
        },
        "id": "Ow_a3A9FVoLr",
        "outputId": "586a32ff-4d60-4f5c-c3ed-914c4d5333f5"
      },
      "execution_count": 15,
      "outputs": [
        {
          "output_type": "stream",
          "name": "stdout",
          "text": [
            "Requirement already satisfied: keras in /usr/local/lib/python3.10/dist-packages (3.4.1)\n",
            "Requirement already satisfied: absl-py in /usr/local/lib/python3.10/dist-packages (from keras) (1.4.0)\n",
            "Requirement already satisfied: numpy in /usr/local/lib/python3.10/dist-packages (from keras) (1.26.4)\n",
            "Requirement already satisfied: rich in /usr/local/lib/python3.10/dist-packages (from keras) (13.9.3)\n",
            "Requirement already satisfied: namex in /usr/local/lib/python3.10/dist-packages (from keras) (0.0.8)\n",
            "Requirement already satisfied: h5py in /usr/local/lib/python3.10/dist-packages (from keras) (3.11.0)\n",
            "Requirement already satisfied: optree in /usr/local/lib/python3.10/dist-packages (from keras) (0.13.0)\n",
            "Requirement already satisfied: ml-dtypes in /usr/local/lib/python3.10/dist-packages (from keras) (0.4.1)\n",
            "Requirement already satisfied: packaging in /usr/local/lib/python3.10/dist-packages (from keras) (24.1)\n",
            "Requirement already satisfied: typing-extensions>=4.5.0 in /usr/local/lib/python3.10/dist-packages (from optree->keras) (4.12.2)\n",
            "Requirement already satisfied: markdown-it-py>=2.2.0 in /usr/local/lib/python3.10/dist-packages (from rich->keras) (3.0.0)\n",
            "Requirement already satisfied: pygments<3.0.0,>=2.13.0 in /usr/local/lib/python3.10/dist-packages (from rich->keras) (2.18.0)\n",
            "Requirement already satisfied: mdurl~=0.1 in /usr/local/lib/python3.10/dist-packages (from markdown-it-py>=2.2.0->rich->keras) (0.1.2)\n"
          ]
        }
      ]
    },
    {
      "cell_type": "markdown",
      "source": [
        "Sequential(): Katmanları sıralı olarak eklememize olanak tanıyan bir model tipidir.\n",
        "\n",
        "model.fit: Modeli eğitim verisi üzerinde eğitir.\n",
        "\n",
        "x_train ve y_train: Eğitim verisi ve bu verilerin etiketleri.\n",
        "\n",
        "epochs=5: Eğitim süreci 5 epoch boyunca tekrar eder."
      ],
      "metadata": {
        "id": "NXB2h4RC59Ns"
      }
    },
    {
      "cell_type": "code",
      "source": [
        "from tensorflow.keras.models import Sequential\n",
        "from tensorflow.keras.layers import Dense\n",
        "\n",
        "# Modeli oluşturma\n",
        "model = Sequential()\n",
        "model.add(Dense(128, activation='relu', input_shape=(28*28,)))\n",
        "model.add(Dense(10, activation='softmax'))\n",
        "\n",
        "# Modeli derleme\n",
        "model.compile(optimizer='adam', loss='categorical_crossentropy', metrics=['accuracy'])\n",
        "\n",
        "# Eğitme\n",
        "model.fit(x_train, y_train, epochs=5)"
      ],
      "metadata": {
        "id": "wp5YAdvuBK0E"
      },
      "execution_count": null,
      "outputs": []
    },
    {
      "cell_type": "markdown",
      "source": [
        "\n",
        "\n",
        "---\n"
      ],
      "metadata": {
        "id": "0Ih049FXBNUE"
      }
    },
    {
      "cell_type": "markdown",
      "source": [
        "#API (Application Programming Interface) - Uygulama Programlama Arayüzü ve ENDPOINT Kavramları Nedir?\n",
        "#Erişim adresleri\n",
        "openweathermap.org (api)\n",
        "\n",
        "https://sehirharitasiapi.ibb.gov.tr/developer/ (api)\n",
        "\n",
        "https://www.tcmb.gov.tr/kurlar/today.xml (Endpoint)\n"
      ],
      "metadata": {
        "id": "zdD1f6-PW_Qj"
      }
    },
    {
      "cell_type": "code",
      "source": [
        "print(\"Merhaba, İGÜ - YAPAY ZEKA\") # print ekrana çıktı veren bir koddur."
      ],
      "metadata": {
        "colab": {
          "base_uri": "https://localhost:8080/"
        },
        "id": "jnY5KZDHXOAD",
        "outputId": "bba99907-ce65-4b11-f981-e2e05dc6b2b5"
      },
      "execution_count": 17,
      "outputs": [
        {
          "output_type": "stream",
          "name": "stdout",
          "text": [
            "Merhaba, İGÜ - YAPAY ZEKA\n"
          ]
        }
      ]
    },
    {
      "cell_type": "code",
      "source": [
        "import sys # import python programlama dilinde yazılıma kütüphane eklemeye yarayan bir kod blogudur.\n",
        "print(sys.version)"
      ],
      "metadata": {
        "colab": {
          "base_uri": "https://localhost:8080/"
        },
        "id": "kPbcYPgFXP5L",
        "outputId": "5af536c5-03cf-4544-af19-e3442f1a66b1"
      },
      "execution_count": 18,
      "outputs": [
        {
          "output_type": "stream",
          "name": "stdout",
          "text": [
            "3.10.12 (main, Sep 11 2024, 15:47:36) [GCC 11.4.0]\n"
          ]
        }
      ]
    },
    {
      "cell_type": "code",
      "source": [
        "from google.colab import drive # google colab - drive bağlantısı\n",
        "\n",
        "drive.mount('/content/drive')"
      ],
      "metadata": {
        "colab": {
          "base_uri": "https://localhost:8080/"
        },
        "id": "QTe0vxicYkLl",
        "outputId": "cb98ed2c-cf5c-4d5c-d1f8-be1c723fe397"
      },
      "execution_count": 19,
      "outputs": [
        {
          "output_type": "stream",
          "name": "stdout",
          "text": [
            "Drive already mounted at /content/drive; to attempt to forcibly remount, call drive.mount(\"/content/drive\", force_remount=True).\n"
          ]
        }
      ]
    },
    {
      "cell_type": "code",
      "source": [
        "import os\n",
        "\n",
        "os.chdir('/content/drive/MyDrive/igu_Yapay_Zeka')\n",
        "\n",
        "!pwd # bize kodun çıktısını dosya yolu olarak veren kod blogudur.\n"
      ],
      "metadata": {
        "colab": {
          "base_uri": "https://localhost:8080/"
        },
        "id": "s1doLDxlYg9D",
        "outputId": "62354a52-3f8e-4f64-e24e-2d34e6247b53"
      },
      "execution_count": 20,
      "outputs": [
        {
          "output_type": "stream",
          "name": "stdout",
          "text": [
            "/content/drive/MyDrive/igu_Yapay_Zeka\n"
          ]
        }
      ]
    },
    {
      "cell_type": "markdown",
      "source": [
        "#Türkiye Cumhuriyet Merkez Bankası’nın (TCMB) günlük döviz kurları bilgisini çekme ve yanıtı XML formatında ekrana yazdırma."
      ],
      "metadata": {
        "id": "9CZzlBSx6TTz"
      }
    },
    {
      "cell_type": "code",
      "source": [
        "import requests\n",
        "import xml.etree.ElementTree as ET\n",
        "import pandas as pd\n",
        "import numpy as np\n",
        "\n",
        "from urllib.request import urlopen\n",
        "from bs4 import BeautifulSoup\n",
        "\n",
        "link_bilgisi = \"https://www.tcmb.gov.tr/kurlar/today.xml\"\n",
        "gelen_yanit = requests.get(url=link_bilgisi)\n",
        "\n",
        "print(gelen_yanit.text)\n"
      ],
      "metadata": {
        "colab": {
          "base_uri": "https://localhost:8080/"
        },
        "id": "WVMzw9vdY7jb",
        "outputId": "c3945608-b53b-4cca-aa1f-72d8a4d025ef"
      },
      "execution_count": 21,
      "outputs": [
        {
          "output_type": "stream",
          "name": "stdout",
          "text": [
            "<?xml version=\"1.0\" encoding=\"UTF-8\"?>\r\n",
            "<?xml-stylesheet type=\"text/xsl\" href=\"isokur.xsl\"?>\r\n",
            "<Tarih_Date Tarih=\"25.10.2024\" Date=\"10/25/2024\"  Bulten_No=\"2024/203\" >\r\n",
            "\t<Currency CrossOrder=\"0\" Kod=\"USD\" CurrencyCode=\"USD\">\r\n",
            "\t\t\t<Unit>1</Unit>\r\n",
            "\t\t\t<Isim>ABD DOLARI</Isim>\r\n",
            "\t\t\t<CurrencyName>US DOLLAR</CurrencyName>\r\n",
            "\t\t\t<ForexBuying>34.1890</ForexBuying>\r\n",
            "\t\t\t<ForexSelling>34.2506</ForexSelling>\r\n",
            "\t\t\t<BanknoteBuying>34.1650</BanknoteBuying>\r\n",
            "\t\t\t<BanknoteSelling>34.3019</BanknoteSelling>\r\n",
            "\t\t\t<CrossRateUSD/>\r\n",
            "\t\t\t<CrossRateOther/>\r\n",
            "\t\t\r\n",
            "\t</Currency>\r\n",
            "\t<Currency CrossOrder=\"1\" Kod=\"AUD\" CurrencyCode=\"AUD\">\r\n",
            "\t\t\t<Unit>1</Unit>\r\n",
            "\t\t\t<Isim>AVUSTRALYA DOLARI</Isim>\r\n",
            "\t\t\t<CurrencyName>AUSTRALIAN DOLLAR</CurrencyName>\r\n",
            "\t\t\t<ForexBuying>22.6123</ForexBuying>\r\n",
            "\t\t\t<ForexSelling>22.7597</ForexSelling>\r\n",
            "\t\t\t<BanknoteBuying>22.5082</BanknoteBuying>\r\n",
            "\t\t\t<BanknoteSelling>22.8963</BanknoteSelling>\r\n",
            "\t\t\t\t<CrossRateUSD>1.5084</CrossRateUSD>\r\n",
            "\t\t\t\t<CrossRateOther/>\r\n",
            "\t\t\r\n",
            "\t</Currency>\r\n",
            "\t<Currency CrossOrder=\"2\" Kod=\"DKK\" CurrencyCode=\"DKK\">\r\n",
            "\t\t\t<Unit>1</Unit>\r\n",
            "\t\t\t<Isim>DANİMARKA KRONU</Isim>\r\n",
            "\t\t\t<CurrencyName>DANISH KRONE</CurrencyName>\r\n",
            "\t\t\t<ForexBuying>4.9516</ForexBuying>\r\n",
            "\t\t\t<ForexSelling>4.9759</ForexSelling>\r\n",
            "\t\t\t<BanknoteBuying>4.9481</BanknoteBuying>\r\n",
            "\t\t\t<BanknoteSelling>4.9874</BanknoteSelling>\r\n",
            "\t\t\t\t<CrossRateUSD>6.8939</CrossRateUSD>\r\n",
            "\t\t\t\t<CrossRateOther/>\r\n",
            "\t\t\r\n",
            "\t</Currency>\r\n",
            "\t<Currency CrossOrder=\"9\" Kod=\"EUR\" CurrencyCode=\"EUR\">\r\n",
            "\t\t\t<Unit>1</Unit>\r\n",
            "\t\t\t<Isim>EURO</Isim>\r\n",
            "\t\t\t<CurrencyName>EURO</CurrencyName>\r\n",
            "\t\t\t<ForexBuying>36.9993</ForexBuying>\r\n",
            "\t\t\t<ForexSelling>37.0660</ForexSelling>\r\n",
            "\t\t\t<BanknoteBuying>36.9734</BanknoteBuying>\r\n",
            "\t\t\t<BanknoteSelling>37.1216</BanknoteSelling>\r\n",
            "\t\t\t\t<CrossRateUSD/>\r\n",
            "\t\t\t\t<CrossRateOther>1.0822</CrossRateOther>\r\n",
            "\t\t\r\n",
            "\t</Currency>\r\n",
            "\t<Currency CrossOrder=\"10\" Kod=\"GBP\" CurrencyCode=\"GBP\">\r\n",
            "\t\t\t<Unit>1</Unit>\r\n",
            "\t\t\t<Isim>İNGİLİZ STERLİNİ</Isim>\r\n",
            "\t\t\t<CurrencyName>POUND STERLING</CurrencyName>\r\n",
            "\t\t\t<ForexBuying>44.2915</ForexBuying>\r\n",
            "\t\t\t<ForexSelling>44.5224</ForexSelling>\r\n",
            "\t\t\t<BanknoteBuying>44.2605</BanknoteBuying>\r\n",
            "\t\t\t<BanknoteSelling>44.5892</BanknoteSelling>\r\n",
            "\t\t\t\t<CrossRateUSD/>\r\n",
            "\t\t\t\t<CrossRateOther>1.2977</CrossRateOther>\r\n",
            "\t\t\r\n",
            "\t</Currency>\r\n",
            "\t<Currency CrossOrder=\"3\" Kod=\"CHF\" CurrencyCode=\"CHF\">\r\n",
            "\t\t\t<Unit>1</Unit>\r\n",
            "\t\t\t<Isim>İSVİÇRE FRANGI</Isim>\r\n",
            "\t\t\t<CurrencyName>SWISS FRANK</CurrencyName>\r\n",
            "\t\t\t<ForexBuying>39.3671</ForexBuying>\r\n",
            "\t\t\t<ForexSelling>39.6198</ForexSelling>\r\n",
            "\t\t\t<BanknoteBuying>39.3080</BanknoteBuying>\r\n",
            "\t\t\t<BanknoteSelling>39.6793</BanknoteSelling>\r\n",
            "\t\t\t\t<CrossRateUSD>0.8665</CrossRateUSD>\r\n",
            "\t\t\t\t<CrossRateOther/>\r\n",
            "\t\t\r\n",
            "\t</Currency>\r\n",
            "\t<Currency CrossOrder=\"4\" Kod=\"SEK\" CurrencyCode=\"SEK\">\r\n",
            "\t\t\t<Unit>1</Unit>\r\n",
            "\t\t\t<Isim>İSVEÇ KRONU</Isim>\r\n",
            "\t\t\t<CurrencyName>SWEDISH KRONA</CurrencyName>\r\n",
            "\t\t\t<ForexBuying>3.2186</ForexBuying>\r\n",
            "\t\t\t<ForexSelling>3.2519</ForexSelling>\r\n",
            "\t\t\t<BanknoteBuying>3.2163</BanknoteBuying>\r\n",
            "\t\t\t<BanknoteSelling>3.2594</BanknoteSelling>\r\n",
            "\t\t\t\t<CrossRateUSD>10.58</CrossRateUSD>\r\n",
            "\t\t\t\t<CrossRateOther/>\r\n",
            "\t\t\r\n",
            "\t</Currency>\r\n",
            "\t<Currency CrossOrder=\"6\" Kod=\"CAD\" CurrencyCode=\"CAD\">\r\n",
            "\t\t\t<Unit>1</Unit>\r\n",
            "\t\t\t<Isim>KANADA DOLARI</Isim>\r\n",
            "\t\t\t<CurrencyName>CANADIAN DOLLAR</CurrencyName>\r\n",
            "\t\t\t<ForexBuying>24.6542</ForexBuying>\r\n",
            "\t\t\t<ForexSelling>24.7654</ForexSelling>\r\n",
            "\t\t\t<BanknoteBuying>24.5630</BanknoteBuying>\r\n",
            "\t\t\t<BanknoteSelling>24.8595</BanknoteSelling>\r\n",
            "\t\t\t\t<CrossRateUSD>1.3849</CrossRateUSD>\r\n",
            "\t\t\t\t<CrossRateOther/>\r\n",
            "\t\t\r\n",
            "\t</Currency>\r\n",
            "\t<Currency CrossOrder=\"11\" Kod=\"KWD\" CurrencyCode=\"KWD\">\r\n",
            "\t\t\t<Unit>1</Unit>\r\n",
            "\t\t\t<Isim>KUVEYT DİNARI</Isim>\r\n",
            "\t\t\t<CurrencyName>KUWAITI DINAR</CurrencyName>\r\n",
            "\t\t\t<ForexBuying>110.9872</ForexBuying>\r\n",
            "\t\t\t<ForexSelling>112.4395</ForexSelling>\r\n",
            "\t\t\t<BanknoteBuying>109.3224</BanknoteBuying>\r\n",
            "\t\t\t<BanknoteSelling>114.1261</BanknoteSelling>\r\n",
            "\t\t\t\t<CrossRateUSD/>\r\n",
            "\t\t\t\t<CrossRateOther>3.2646</CrossRateOther>\r\n",
            "\t\t\r\n",
            "\t</Currency>\r\n",
            "\t<Currency CrossOrder=\"7\" Kod=\"NOK\" CurrencyCode=\"NOK\">\r\n",
            "\t\t\t<Unit>1</Unit>\r\n",
            "\t\t\t<Isim>NORVEÇ KRONU</Isim>\r\n",
            "\t\t\t<CurrencyName>NORWEGIAN KRONE</CurrencyName>\r\n",
            "\t\t\t<ForexBuying>3.1188</ForexBuying>\r\n",
            "\t\t\t<ForexSelling>3.1398</ForexSelling>\r\n",
            "\t\t\t<BanknoteBuying>3.1167</BanknoteBuying>\r\n",
            "\t\t\t<BanknoteSelling>3.1470</BanknoteSelling>\r\n",
            "\t\t\t\t<CrossRateUSD>10.94</CrossRateUSD>\r\n",
            "\t\t\t\t<CrossRateOther/>\r\n",
            "\t\t\r\n",
            "\t</Currency>\r\n",
            "\t<Currency CrossOrder=\"8\" Kod=\"SAR\" CurrencyCode=\"SAR\">\r\n",
            "\t\t\t<Unit>1</Unit>\r\n",
            "\t\t\t<Isim>SUUDİ ARABİSTAN RİYALİ</Isim>\r\n",
            "\t\t\t<CurrencyName>SAUDI RIYAL</CurrencyName>\r\n",
            "\t\t\t<ForexBuying>9.1023</ForexBuying>\r\n",
            "\t\t\t<ForexSelling>9.1187</ForexSelling>\r\n",
            "\t\t\t<BanknoteBuying>9.0341</BanknoteBuying>\r\n",
            "\t\t\t<BanknoteSelling>9.1871</BanknoteSelling>\r\n",
            "\t\t\t\t<CrossRateUSD>3.7561</CrossRateUSD>\r\n",
            "\t\t\t\t<CrossRateOther/>\r\n",
            "\t\t\r\n",
            "\t</Currency>\r\n",
            "\t<Currency CrossOrder=\"5\" Kod=\"JPY\" CurrencyCode=\"JPY\">\r\n",
            "\t\t\t<Unit>100</Unit>\r\n",
            "\t\t\t<Isim>JAPON YENİ</Isim>\r\n",
            "\t\t\t<CurrencyName>JAPENESE YEN</CurrencyName>\r\n",
            "\t\t\t<ForexBuying>22.4515</ForexBuying>\r\n",
            "\t\t\t<ForexSelling>22.6002</ForexSelling>\r\n",
            "\t\t\t<BanknoteBuying>22.3684</BanknoteBuying>\r\n",
            "\t\t\t<BanknoteSelling>22.6861</BanknoteSelling>\r\n",
            "\t\t\t\t<CrossRateUSD>151.91</CrossRateUSD>\r\n",
            "\t\t\t\t<CrossRateOther/>\r\n",
            "\t\t\r\n",
            "\t</Currency>\r\n",
            "\t<Currency CrossOrder=\"12\" Kod=\"BGN\" CurrencyCode=\"BGN\">\r\n",
            "\t\t\t<Unit>1</Unit>\r\n",
            "\t\t\t<Isim>BULGAR LEVASI</Isim>\r\n",
            "\t\t\t<CurrencyName>BULGARIAN LEV</CurrencyName>\r\n",
            "\t\t\t<ForexBuying>18.8114</ForexBuying>\r\n",
            "\t\t\t<ForexSelling>19.0575</ForexSelling>\r\n",
            "\t\t\t<BanknoteBuying></BanknoteBuying>\r\n",
            "\t\t\t<BanknoteSelling></BanknoteSelling>\r\n",
            "\t\t\t\t<CrossRateUSD>1.8073</CrossRateUSD>\r\n",
            "\t\t\t\t<CrossRateOther/>\r\n",
            "\t\t\r\n",
            "\t</Currency>\r\n",
            "\t<Currency CrossOrder=\"13\" Kod=\"RON\" CurrencyCode=\"RON\">\r\n",
            "\t\t\t<Unit>1</Unit>\r\n",
            "\t\t\t<Isim>RUMEN LEYİ</Isim>\r\n",
            "\t\t\t<CurrencyName>NEW LEU</CurrencyName>\r\n",
            "\t\t\t<ForexBuying>7.3983</ForexBuying>\r\n",
            "\t\t\t<ForexSelling>7.4951</ForexSelling>\r\n",
            "\t\t\t<BanknoteBuying></BanknoteBuying>\r\n",
            "\t\t\t<BanknoteSelling></BanknoteSelling>\r\n",
            "\t\t\t\t<CrossRateUSD>4.5953</CrossRateUSD>\r\n",
            "\t\t\t\t<CrossRateOther/>\r\n",
            "\t\t\r\n",
            "\t</Currency>\r\n",
            "\t<Currency CrossOrder=\"14\" Kod=\"RUB\" CurrencyCode=\"RUB\">\r\n",
            "\t\t\t<Unit>1</Unit>\r\n",
            "\t\t\t<Isim>RUS RUBLESİ</Isim>\r\n",
            "\t\t\t<CurrencyName>RUSSIAN ROUBLE</CurrencyName>\r\n",
            "\t\t\t<ForexBuying>0.35136</ForexBuying>\r\n",
            "\t\t\t<ForexSelling>0.35596</ForexSelling>\r\n",
            "\t\t\t<BanknoteBuying></BanknoteBuying>\r\n",
            "\t\t\t<BanknoteSelling></BanknoteSelling>\r\n",
            "\t\t\t\t<CrossRateUSD>96.76</CrossRateUSD>\r\n",
            "\t\t\t\t<CrossRateOther/>\r\n",
            "\t\t\r\n",
            "\t</Currency>\r\n",
            "\t<Currency CrossOrder=\"15\" Kod=\"IRR\" CurrencyCode=\"IRR\">\r\n",
            "\t\t\t<Unit>100</Unit>\r\n",
            "\t\t\t<Isim>İRAN RİYALİ</Isim>\r\n",
            "\t\t\t<CurrencyName>IRANIAN RIAL</CurrencyName>\r\n",
            "\t\t\t<ForexBuying>0.00769</ForexBuying>\r\n",
            "\t\t\t<ForexSelling>0.00779</ForexSelling>\r\n",
            "\t\t\t<BanknoteBuying></BanknoteBuying>\r\n",
            "\t\t\t<BanknoteSelling></BanknoteSelling>\r\n",
            "\t\t\t\t<CrossRateUSD>442081</CrossRateUSD>\r\n",
            "\t\t\t\t<CrossRateOther/>\r\n",
            "\t\t\r\n",
            "\t</Currency>\r\n",
            "\t<Currency CrossOrder=\"16\" Kod=\"CNY\" CurrencyCode=\"CNY\">\r\n",
            "\t\t\t<Unit>1</Unit>\r\n",
            "\t\t\t<Isim>ÇİN YUANI</Isim>\r\n",
            "\t\t\t<CurrencyName>CHINESE RENMINBI</CurrencyName>\r\n",
            "\t\t\t<ForexBuying>4.7719</ForexBuying>\r\n",
            "\t\t\t<ForexSelling>4.8343</ForexSelling>\r\n",
            "\t\t\t<BanknoteBuying></BanknoteBuying>\r\n",
            "\t\t\t<BanknoteSelling></BanknoteSelling>\r\n",
            "\t\t\t\t<CrossRateUSD>7.1245</CrossRateUSD>\r\n",
            "\t\t\t\t<CrossRateOther/>\r\n",
            "\t\t\r\n",
            "\t</Currency>\r\n",
            "\t<Currency CrossOrder=\"17\" Kod=\"PKR\" CurrencyCode=\"PKR\">\r\n",
            "\t\t\t<Unit>1</Unit>\r\n",
            "\t\t\t<Isim>PAKİSTAN RUPİSİ</Isim>\r\n",
            "\t\t\t<CurrencyName>PAKISTANI RUPEE</CurrencyName>\r\n",
            "\t\t\t<ForexBuying>0.12247</ForexBuying>\r\n",
            "\t\t\t<ForexSelling>0.12407</ForexSelling>\r\n",
            "\t\t\t<BanknoteBuying></BanknoteBuying>\r\n",
            "\t\t\t<BanknoteSelling></BanknoteSelling>\r\n",
            "\t\t\t\t<CrossRateUSD>277.60</CrossRateUSD>\r\n",
            "\t\t\t\t<CrossRateOther/>\r\n",
            "\t\t\r\n",
            "\t</Currency>\r\n",
            "\t<Currency CrossOrder=\"18\" Kod=\"QAR\" CurrencyCode=\"QAR\">\r\n",
            "\t\t\t<Unit>1</Unit>\r\n",
            "\t\t\t<Isim>KATAR RİYALİ</Isim>\r\n",
            "\t\t\t<CurrencyName>QATARI RIAL</CurrencyName>\r\n",
            "\t\t\t<ForexBuying>9.3246</ForexBuying>\r\n",
            "\t\t\t<ForexSelling>9.4466</ForexSelling>\r\n",
            "\t\t\t<BanknoteBuying></BanknoteBuying>\r\n",
            "\t\t\t<BanknoteSelling></BanknoteSelling>\r\n",
            "\t\t\t\t<CrossRateUSD>3.6460</CrossRateUSD>\r\n",
            "\t\t\t\t<CrossRateOther/>\r\n",
            "\t\t\r\n",
            "\t</Currency>\r\n",
            "\t<Currency CrossOrder=\"19\" Kod=\"KRW\" CurrencyCode=\"KRW\">\r\n",
            "\t\t\t<Unit>1</Unit>\r\n",
            "\t\t\t<Isim>GÜNEY KORE WONU</Isim>\r\n",
            "\t\t\t<CurrencyName>SOUTH KOREAN WON</CurrencyName>\r\n",
            "\t\t\t<ForexBuying>0.02447</ForexBuying>\r\n",
            "\t\t\t<ForexSelling>0.02479</ForexSelling>\r\n",
            "\t\t\t<BanknoteBuying></BanknoteBuying>\r\n",
            "\t\t\t<BanknoteSelling></BanknoteSelling>\r\n",
            "\t\t\t\t<CrossRateUSD>1389</CrossRateUSD>\r\n",
            "\t\t\t\t<CrossRateOther/>\r\n",
            "\t\t\r\n",
            "\t</Currency>\r\n",
            "\t<Currency CrossOrder=\"20\" Kod=\"AZN\" CurrencyCode=\"AZN\">\r\n",
            "\t\t\t<Unit>1</Unit>\r\n",
            "\t\t\t<Isim>AZERBAYCAN YENİ MANATI</Isim>\r\n",
            "\t\t\t<CurrencyName>AZERBAIJANI NEW MANAT</CurrencyName>\r\n",
            "\t\t\t<ForexBuying>19.9984</ForexBuying>\r\n",
            "\t\t\t<ForexSelling>20.2601</ForexSelling>\r\n",
            "\t\t\t<BanknoteBuying></BanknoteBuying>\r\n",
            "\t\t\t<BanknoteSelling></BanknoteSelling>\r\n",
            "\t\t\t\t<CrossRateUSD>1.7000</CrossRateUSD>\r\n",
            "\t\t\t\t<CrossRateOther/>\r\n",
            "\t\t\r\n",
            "\t</Currency>\r\n",
            "\t<Currency CrossOrder=\"21\" Kod=\"AED\" CurrencyCode=\"AED\">\r\n",
            "\t\t\t<Unit>1</Unit>\r\n",
            "\t\t\t<Isim>BİRLEŞİK ARAP EMİRLİKLERİ DİRHEMİ</Isim>\r\n",
            "\t\t\t<CurrencyName>UNITED ARAB EMIRATES DIRHAM</CurrencyName>\r\n",
            "\t\t\t<ForexBuying>9.2560</ForexBuying>\r\n",
            "\t\t\t<ForexSelling>9.3771</ForexSelling>\r\n",
            "\t\t\t<BanknoteBuying></BanknoteBuying>\r\n",
            "\t\t\t<BanknoteSelling></BanknoteSelling>\r\n",
            "\t\t\t\t<CrossRateUSD>3.6730</CrossRateUSD>\r\n",
            "\t\t\t\t<CrossRateOther/>\r\n",
            "\t\t\r\n",
            "\t</Currency>\r\n",
            "\t<Currency CrossOrder=\"0\" Kod=\"XDR\" CurrencyCode=\"XDR\">\r\n",
            "\t\t<Unit>1</Unit>\r\n",
            "\t\t<Isim>ÖZEL ÇEKME HAKKI (SDR)                            </Isim>\r\n",
            "\t\t<CurrencyName>SPECIAL DRAWING RIGHT (SDR)                       </CurrencyName>\r\n",
            "\t\t<ForexBuying>45.5273</ForexBuying>\r\n",
            "\t\t<ForexSelling/>\r\n",
            "\t\t<BanknoteBuying/>\r\n",
            "\t\t<BanknoteSelling/>\r\n",
            "\t\t<CrossRateUSD/>\r\n",
            "\t\t<CrossRateOther>1.33044</CrossRateOther>\r\n",
            "\t</Currency>\r\n",
            "</Tarih_Date>\r\n",
            "\n"
          ]
        }
      ]
    },
    {
      "cell_type": "code",
      "source": [
        "tree = ET.parse(urlopen(link_bilgisi))\n",
        "\n",
        "root = tree.getroot()\n",
        "\n",
        "liste = []\n",
        "\n",
        "liste.append(root.findall('Currency'))"
      ],
      "metadata": {
        "id": "PbnZu51NZPUc"
      },
      "execution_count": 22,
      "outputs": []
    },
    {
      "cell_type": "code",
      "source": [
        "for i in liste[0]:\n",
        "  currencyCode = i.get('Kod')\n",
        "  banknoteBuying = i.find(\"BanknoteSelling\").text\n",
        "  banknoteSelling = i.find(\"BanknoteBuying\").text\n",
        "\n",
        "  if currencyCode == \"USD\":\n",
        "    print(currencyCode, banknoteBuying, banknoteSelling)\n",
        "    result = float(banknoteBuying) - float(banknoteSelling)\n",
        "    print(\"USD Banka Alış Satış Arasındaki Kur Farkı ->\", result)\n",
        "\n",
        "  if currencyCode == \"EUR\":\n",
        "    print(currencyCode, banknoteBuying, banknoteSelling)\n",
        "    result = float(banknoteBuying) - float(banknoteSelling)\n",
        "    print(\"EUR Banka Alış Satış Arasındaki Kur Farkı ->\", result)"
      ],
      "metadata": {
        "colab": {
          "base_uri": "https://localhost:8080/"
        },
        "id": "41fbQi0PZRTk",
        "outputId": "d4b90591-1112-4ee3-b5fb-e8173b5b58a9"
      },
      "execution_count": 23,
      "outputs": [
        {
          "output_type": "stream",
          "name": "stdout",
          "text": [
            "USD 34.3019 34.1650\n",
            "USD Banka Alış Satış Arasındaki Kur Farkı -> 0.13690000000000424\n",
            "EUR 37.1216 36.9734\n",
            "EUR Banka Alış Satış Arasındaki Kur Farkı -> 0.14820000000000277\n"
          ]
        }
      ]
    },
    {
      "cell_type": "markdown",
      "source": [
        "###Aşağıdaki blok ise Türkiye Cumhuriyet Merkez Bankası (TCMB) tarafından sağlanan günlük döviz kuru verilerini alıp analiz etmeme yarar.\n",
        "\n",
        "Veri Çekme ve İşleme: requests ve xml.etree.ElementTree kullanarak TCMB'nin sağladığı XML formatındaki döviz kuru verisi alınır ve parse edilir.\n",
        "\n",
        "Veri Filtreleme: USD ve EUR için alış ve satış fiyatları bulunur ve fiyatlar arasındaki fark hesaplanarak ekrana yazdırılır.\n",
        "\n",
        "Veri Yapısı Oluşturma: Tüm döviz birimleri için alış ve satış fiyatları ile aralarındaki fark bir sözlükte toplanır.\n",
        "\n",
        "Veriyi Görselleştirme: pandas ile oluşturulan veriyi matplotlib kullanarak grafikleştirir. Grafik, her bir döviz biriminin alış-satış farkını gösterir."
      ],
      "metadata": {
        "id": "LlRTYmxC7Kvr"
      }
    },
    {
      "cell_type": "code",
      "source": [
        "import requests\n",
        "import xml.etree.ElementTree as ET\n",
        "import pandas as pd\n",
        "import numpy as np\n",
        "from urllib.request import urlopen\n",
        "from bs4 import BeautifulSoup\n",
        "import matplotlib.pyplot as plt\n",
        "\n",
        "baglanti_adresi = \"https://www.tcmb.gov.tr/kurlar/today.xml\"\n",
        "\n",
        "gelen_veri = requests.get(url=baglanti_adresi)\n",
        "print(gelen_veri.text)\n",
        "\n",
        "agac = ET.parse(urlopen(baglanti_adresi))\n",
        "kok = agac.getroot()\n",
        "\n",
        "para_birimleri = []\n",
        "\n",
        "para_birimleri.append(kok.findall('Currency'))\n",
        "\n",
        "for i in para_birimleri[0]:\n",
        "    paraBirimiKodu = i.get('Kod')\n",
        "    alisFiyati = i.find(\"BanknoteSelling\").text\n",
        "    satisFiyati = i.find(\"BanknoteBuying\").text\n",
        "\n",
        "    if paraBirimiKodu == \"USD\":\n",
        "        print(paraBirimiKodu, alisFiyati, satisFiyati)\n",
        "        fark = float(alisFiyati) - float(satisFiyati)\n",
        "        print(\"USD Banka Alış Satış Arasındaki Kur Farkı ->\", fark)\n",
        "\n",
        "    if paraBirimiKodu == \"EUR\":\n",
        "        print(paraBirimiKodu, alisFiyati, satisFiyati)\n",
        "        fark = float(alisFiyati) - float(satisFiyati)\n",
        "        print(\"EUR Banka Alış Satış Arasındaki Kur Farkı ->\", fark)\n",
        "\n",
        "veri = {\n",
        "    'Para Birimi': [],\n",
        "    'Alış Fiyatı': [],\n",
        "    'Satış Fiyatı': [],\n",
        "    'Fark': []\n",
        "}\n",
        "\n",
        "for i in para_birimleri[0]:\n",
        "    paraBirimiKodu = i.get('Kod')\n",
        "    alisFiyati = i.find(\"BanknoteSelling\").text\n",
        "    satisFiyati = i.find(\"BanknoteBuying\").text\n",
        "    if alisFiyati is not None and satisFiyati is not None:\n",
        "        fark = float(alisFiyati) - float(satisFiyati)\n",
        "        veri['Para Birimi'].append(paraBirimiKodu)\n",
        "        veri['Alış Fiyatı'].append(float(alisFiyati))\n",
        "        veri['Satış Fiyatı'].append(float(satisFiyati))\n",
        "        veri['Fark'].append(fark)\n",
        "\n",
        "df = pd.DataFrame(veri)\n",
        "\n",
        "plt.figure(figsize=(10, 6))\n",
        "plt.bar(df['Para Birimi'], df['Fark'], color='blue')\n",
        "plt.xlabel('Para Birimi')\n",
        "plt.ylabel('Alış-Satış Farkı')\n",
        "plt.title('Para Birimlerine Göre Alış-Satış Farkları')\n",
        "plt.show()"
      ],
      "metadata": {
        "colab": {
          "base_uri": "https://localhost:8080/",
          "height": 1000
        },
        "id": "Z44PYxPIZ92C",
        "outputId": "b3d430dd-3f35-43dc-ccc2-79c0d4113d46"
      },
      "execution_count": 24,
      "outputs": [
        {
          "output_type": "stream",
          "name": "stdout",
          "text": [
            "<?xml version=\"1.0\" encoding=\"UTF-8\"?>\r\n",
            "<?xml-stylesheet type=\"text/xsl\" href=\"isokur.xsl\"?>\r\n",
            "<Tarih_Date Tarih=\"25.10.2024\" Date=\"10/25/2024\"  Bulten_No=\"2024/203\" >\r\n",
            "\t<Currency CrossOrder=\"0\" Kod=\"USD\" CurrencyCode=\"USD\">\r\n",
            "\t\t\t<Unit>1</Unit>\r\n",
            "\t\t\t<Isim>ABD DOLARI</Isim>\r\n",
            "\t\t\t<CurrencyName>US DOLLAR</CurrencyName>\r\n",
            "\t\t\t<ForexBuying>34.1890</ForexBuying>\r\n",
            "\t\t\t<ForexSelling>34.2506</ForexSelling>\r\n",
            "\t\t\t<BanknoteBuying>34.1650</BanknoteBuying>\r\n",
            "\t\t\t<BanknoteSelling>34.3019</BanknoteSelling>\r\n",
            "\t\t\t<CrossRateUSD/>\r\n",
            "\t\t\t<CrossRateOther/>\r\n",
            "\t\t\r\n",
            "\t</Currency>\r\n",
            "\t<Currency CrossOrder=\"1\" Kod=\"AUD\" CurrencyCode=\"AUD\">\r\n",
            "\t\t\t<Unit>1</Unit>\r\n",
            "\t\t\t<Isim>AVUSTRALYA DOLARI</Isim>\r\n",
            "\t\t\t<CurrencyName>AUSTRALIAN DOLLAR</CurrencyName>\r\n",
            "\t\t\t<ForexBuying>22.6123</ForexBuying>\r\n",
            "\t\t\t<ForexSelling>22.7597</ForexSelling>\r\n",
            "\t\t\t<BanknoteBuying>22.5082</BanknoteBuying>\r\n",
            "\t\t\t<BanknoteSelling>22.8963</BanknoteSelling>\r\n",
            "\t\t\t\t<CrossRateUSD>1.5084</CrossRateUSD>\r\n",
            "\t\t\t\t<CrossRateOther/>\r\n",
            "\t\t\r\n",
            "\t</Currency>\r\n",
            "\t<Currency CrossOrder=\"2\" Kod=\"DKK\" CurrencyCode=\"DKK\">\r\n",
            "\t\t\t<Unit>1</Unit>\r\n",
            "\t\t\t<Isim>DANİMARKA KRONU</Isim>\r\n",
            "\t\t\t<CurrencyName>DANISH KRONE</CurrencyName>\r\n",
            "\t\t\t<ForexBuying>4.9516</ForexBuying>\r\n",
            "\t\t\t<ForexSelling>4.9759</ForexSelling>\r\n",
            "\t\t\t<BanknoteBuying>4.9481</BanknoteBuying>\r\n",
            "\t\t\t<BanknoteSelling>4.9874</BanknoteSelling>\r\n",
            "\t\t\t\t<CrossRateUSD>6.8939</CrossRateUSD>\r\n",
            "\t\t\t\t<CrossRateOther/>\r\n",
            "\t\t\r\n",
            "\t</Currency>\r\n",
            "\t<Currency CrossOrder=\"9\" Kod=\"EUR\" CurrencyCode=\"EUR\">\r\n",
            "\t\t\t<Unit>1</Unit>\r\n",
            "\t\t\t<Isim>EURO</Isim>\r\n",
            "\t\t\t<CurrencyName>EURO</CurrencyName>\r\n",
            "\t\t\t<ForexBuying>36.9993</ForexBuying>\r\n",
            "\t\t\t<ForexSelling>37.0660</ForexSelling>\r\n",
            "\t\t\t<BanknoteBuying>36.9734</BanknoteBuying>\r\n",
            "\t\t\t<BanknoteSelling>37.1216</BanknoteSelling>\r\n",
            "\t\t\t\t<CrossRateUSD/>\r\n",
            "\t\t\t\t<CrossRateOther>1.0822</CrossRateOther>\r\n",
            "\t\t\r\n",
            "\t</Currency>\r\n",
            "\t<Currency CrossOrder=\"10\" Kod=\"GBP\" CurrencyCode=\"GBP\">\r\n",
            "\t\t\t<Unit>1</Unit>\r\n",
            "\t\t\t<Isim>İNGİLİZ STERLİNİ</Isim>\r\n",
            "\t\t\t<CurrencyName>POUND STERLING</CurrencyName>\r\n",
            "\t\t\t<ForexBuying>44.2915</ForexBuying>\r\n",
            "\t\t\t<ForexSelling>44.5224</ForexSelling>\r\n",
            "\t\t\t<BanknoteBuying>44.2605</BanknoteBuying>\r\n",
            "\t\t\t<BanknoteSelling>44.5892</BanknoteSelling>\r\n",
            "\t\t\t\t<CrossRateUSD/>\r\n",
            "\t\t\t\t<CrossRateOther>1.2977</CrossRateOther>\r\n",
            "\t\t\r\n",
            "\t</Currency>\r\n",
            "\t<Currency CrossOrder=\"3\" Kod=\"CHF\" CurrencyCode=\"CHF\">\r\n",
            "\t\t\t<Unit>1</Unit>\r\n",
            "\t\t\t<Isim>İSVİÇRE FRANGI</Isim>\r\n",
            "\t\t\t<CurrencyName>SWISS FRANK</CurrencyName>\r\n",
            "\t\t\t<ForexBuying>39.3671</ForexBuying>\r\n",
            "\t\t\t<ForexSelling>39.6198</ForexSelling>\r\n",
            "\t\t\t<BanknoteBuying>39.3080</BanknoteBuying>\r\n",
            "\t\t\t<BanknoteSelling>39.6793</BanknoteSelling>\r\n",
            "\t\t\t\t<CrossRateUSD>0.8665</CrossRateUSD>\r\n",
            "\t\t\t\t<CrossRateOther/>\r\n",
            "\t\t\r\n",
            "\t</Currency>\r\n",
            "\t<Currency CrossOrder=\"4\" Kod=\"SEK\" CurrencyCode=\"SEK\">\r\n",
            "\t\t\t<Unit>1</Unit>\r\n",
            "\t\t\t<Isim>İSVEÇ KRONU</Isim>\r\n",
            "\t\t\t<CurrencyName>SWEDISH KRONA</CurrencyName>\r\n",
            "\t\t\t<ForexBuying>3.2186</ForexBuying>\r\n",
            "\t\t\t<ForexSelling>3.2519</ForexSelling>\r\n",
            "\t\t\t<BanknoteBuying>3.2163</BanknoteBuying>\r\n",
            "\t\t\t<BanknoteSelling>3.2594</BanknoteSelling>\r\n",
            "\t\t\t\t<CrossRateUSD>10.58</CrossRateUSD>\r\n",
            "\t\t\t\t<CrossRateOther/>\r\n",
            "\t\t\r\n",
            "\t</Currency>\r\n",
            "\t<Currency CrossOrder=\"6\" Kod=\"CAD\" CurrencyCode=\"CAD\">\r\n",
            "\t\t\t<Unit>1</Unit>\r\n",
            "\t\t\t<Isim>KANADA DOLARI</Isim>\r\n",
            "\t\t\t<CurrencyName>CANADIAN DOLLAR</CurrencyName>\r\n",
            "\t\t\t<ForexBuying>24.6542</ForexBuying>\r\n",
            "\t\t\t<ForexSelling>24.7654</ForexSelling>\r\n",
            "\t\t\t<BanknoteBuying>24.5630</BanknoteBuying>\r\n",
            "\t\t\t<BanknoteSelling>24.8595</BanknoteSelling>\r\n",
            "\t\t\t\t<CrossRateUSD>1.3849</CrossRateUSD>\r\n",
            "\t\t\t\t<CrossRateOther/>\r\n",
            "\t\t\r\n",
            "\t</Currency>\r\n",
            "\t<Currency CrossOrder=\"11\" Kod=\"KWD\" CurrencyCode=\"KWD\">\r\n",
            "\t\t\t<Unit>1</Unit>\r\n",
            "\t\t\t<Isim>KUVEYT DİNARI</Isim>\r\n",
            "\t\t\t<CurrencyName>KUWAITI DINAR</CurrencyName>\r\n",
            "\t\t\t<ForexBuying>110.9872</ForexBuying>\r\n",
            "\t\t\t<ForexSelling>112.4395</ForexSelling>\r\n",
            "\t\t\t<BanknoteBuying>109.3224</BanknoteBuying>\r\n",
            "\t\t\t<BanknoteSelling>114.1261</BanknoteSelling>\r\n",
            "\t\t\t\t<CrossRateUSD/>\r\n",
            "\t\t\t\t<CrossRateOther>3.2646</CrossRateOther>\r\n",
            "\t\t\r\n",
            "\t</Currency>\r\n",
            "\t<Currency CrossOrder=\"7\" Kod=\"NOK\" CurrencyCode=\"NOK\">\r\n",
            "\t\t\t<Unit>1</Unit>\r\n",
            "\t\t\t<Isim>NORVEÇ KRONU</Isim>\r\n",
            "\t\t\t<CurrencyName>NORWEGIAN KRONE</CurrencyName>\r\n",
            "\t\t\t<ForexBuying>3.1188</ForexBuying>\r\n",
            "\t\t\t<ForexSelling>3.1398</ForexSelling>\r\n",
            "\t\t\t<BanknoteBuying>3.1167</BanknoteBuying>\r\n",
            "\t\t\t<BanknoteSelling>3.1470</BanknoteSelling>\r\n",
            "\t\t\t\t<CrossRateUSD>10.94</CrossRateUSD>\r\n",
            "\t\t\t\t<CrossRateOther/>\r\n",
            "\t\t\r\n",
            "\t</Currency>\r\n",
            "\t<Currency CrossOrder=\"8\" Kod=\"SAR\" CurrencyCode=\"SAR\">\r\n",
            "\t\t\t<Unit>1</Unit>\r\n",
            "\t\t\t<Isim>SUUDİ ARABİSTAN RİYALİ</Isim>\r\n",
            "\t\t\t<CurrencyName>SAUDI RIYAL</CurrencyName>\r\n",
            "\t\t\t<ForexBuying>9.1023</ForexBuying>\r\n",
            "\t\t\t<ForexSelling>9.1187</ForexSelling>\r\n",
            "\t\t\t<BanknoteBuying>9.0341</BanknoteBuying>\r\n",
            "\t\t\t<BanknoteSelling>9.1871</BanknoteSelling>\r\n",
            "\t\t\t\t<CrossRateUSD>3.7561</CrossRateUSD>\r\n",
            "\t\t\t\t<CrossRateOther/>\r\n",
            "\t\t\r\n",
            "\t</Currency>\r\n",
            "\t<Currency CrossOrder=\"5\" Kod=\"JPY\" CurrencyCode=\"JPY\">\r\n",
            "\t\t\t<Unit>100</Unit>\r\n",
            "\t\t\t<Isim>JAPON YENİ</Isim>\r\n",
            "\t\t\t<CurrencyName>JAPENESE YEN</CurrencyName>\r\n",
            "\t\t\t<ForexBuying>22.4515</ForexBuying>\r\n",
            "\t\t\t<ForexSelling>22.6002</ForexSelling>\r\n",
            "\t\t\t<BanknoteBuying>22.3684</BanknoteBuying>\r\n",
            "\t\t\t<BanknoteSelling>22.6861</BanknoteSelling>\r\n",
            "\t\t\t\t<CrossRateUSD>151.91</CrossRateUSD>\r\n",
            "\t\t\t\t<CrossRateOther/>\r\n",
            "\t\t\r\n",
            "\t</Currency>\r\n",
            "\t<Currency CrossOrder=\"12\" Kod=\"BGN\" CurrencyCode=\"BGN\">\r\n",
            "\t\t\t<Unit>1</Unit>\r\n",
            "\t\t\t<Isim>BULGAR LEVASI</Isim>\r\n",
            "\t\t\t<CurrencyName>BULGARIAN LEV</CurrencyName>\r\n",
            "\t\t\t<ForexBuying>18.8114</ForexBuying>\r\n",
            "\t\t\t<ForexSelling>19.0575</ForexSelling>\r\n",
            "\t\t\t<BanknoteBuying></BanknoteBuying>\r\n",
            "\t\t\t<BanknoteSelling></BanknoteSelling>\r\n",
            "\t\t\t\t<CrossRateUSD>1.8073</CrossRateUSD>\r\n",
            "\t\t\t\t<CrossRateOther/>\r\n",
            "\t\t\r\n",
            "\t</Currency>\r\n",
            "\t<Currency CrossOrder=\"13\" Kod=\"RON\" CurrencyCode=\"RON\">\r\n",
            "\t\t\t<Unit>1</Unit>\r\n",
            "\t\t\t<Isim>RUMEN LEYİ</Isim>\r\n",
            "\t\t\t<CurrencyName>NEW LEU</CurrencyName>\r\n",
            "\t\t\t<ForexBuying>7.3983</ForexBuying>\r\n",
            "\t\t\t<ForexSelling>7.4951</ForexSelling>\r\n",
            "\t\t\t<BanknoteBuying></BanknoteBuying>\r\n",
            "\t\t\t<BanknoteSelling></BanknoteSelling>\r\n",
            "\t\t\t\t<CrossRateUSD>4.5953</CrossRateUSD>\r\n",
            "\t\t\t\t<CrossRateOther/>\r\n",
            "\t\t\r\n",
            "\t</Currency>\r\n",
            "\t<Currency CrossOrder=\"14\" Kod=\"RUB\" CurrencyCode=\"RUB\">\r\n",
            "\t\t\t<Unit>1</Unit>\r\n",
            "\t\t\t<Isim>RUS RUBLESİ</Isim>\r\n",
            "\t\t\t<CurrencyName>RUSSIAN ROUBLE</CurrencyName>\r\n",
            "\t\t\t<ForexBuying>0.35136</ForexBuying>\r\n",
            "\t\t\t<ForexSelling>0.35596</ForexSelling>\r\n",
            "\t\t\t<BanknoteBuying></BanknoteBuying>\r\n",
            "\t\t\t<BanknoteSelling></BanknoteSelling>\r\n",
            "\t\t\t\t<CrossRateUSD>96.76</CrossRateUSD>\r\n",
            "\t\t\t\t<CrossRateOther/>\r\n",
            "\t\t\r\n",
            "\t</Currency>\r\n",
            "\t<Currency CrossOrder=\"15\" Kod=\"IRR\" CurrencyCode=\"IRR\">\r\n",
            "\t\t\t<Unit>100</Unit>\r\n",
            "\t\t\t<Isim>İRAN RİYALİ</Isim>\r\n",
            "\t\t\t<CurrencyName>IRANIAN RIAL</CurrencyName>\r\n",
            "\t\t\t<ForexBuying>0.00769</ForexBuying>\r\n",
            "\t\t\t<ForexSelling>0.00779</ForexSelling>\r\n",
            "\t\t\t<BanknoteBuying></BanknoteBuying>\r\n",
            "\t\t\t<BanknoteSelling></BanknoteSelling>\r\n",
            "\t\t\t\t<CrossRateUSD>442081</CrossRateUSD>\r\n",
            "\t\t\t\t<CrossRateOther/>\r\n",
            "\t\t\r\n",
            "\t</Currency>\r\n",
            "\t<Currency CrossOrder=\"16\" Kod=\"CNY\" CurrencyCode=\"CNY\">\r\n",
            "\t\t\t<Unit>1</Unit>\r\n",
            "\t\t\t<Isim>ÇİN YUANI</Isim>\r\n",
            "\t\t\t<CurrencyName>CHINESE RENMINBI</CurrencyName>\r\n",
            "\t\t\t<ForexBuying>4.7719</ForexBuying>\r\n",
            "\t\t\t<ForexSelling>4.8343</ForexSelling>\r\n",
            "\t\t\t<BanknoteBuying></BanknoteBuying>\r\n",
            "\t\t\t<BanknoteSelling></BanknoteSelling>\r\n",
            "\t\t\t\t<CrossRateUSD>7.1245</CrossRateUSD>\r\n",
            "\t\t\t\t<CrossRateOther/>\r\n",
            "\t\t\r\n",
            "\t</Currency>\r\n",
            "\t<Currency CrossOrder=\"17\" Kod=\"PKR\" CurrencyCode=\"PKR\">\r\n",
            "\t\t\t<Unit>1</Unit>\r\n",
            "\t\t\t<Isim>PAKİSTAN RUPİSİ</Isim>\r\n",
            "\t\t\t<CurrencyName>PAKISTANI RUPEE</CurrencyName>\r\n",
            "\t\t\t<ForexBuying>0.12247</ForexBuying>\r\n",
            "\t\t\t<ForexSelling>0.12407</ForexSelling>\r\n",
            "\t\t\t<BanknoteBuying></BanknoteBuying>\r\n",
            "\t\t\t<BanknoteSelling></BanknoteSelling>\r\n",
            "\t\t\t\t<CrossRateUSD>277.60</CrossRateUSD>\r\n",
            "\t\t\t\t<CrossRateOther/>\r\n",
            "\t\t\r\n",
            "\t</Currency>\r\n",
            "\t<Currency CrossOrder=\"18\" Kod=\"QAR\" CurrencyCode=\"QAR\">\r\n",
            "\t\t\t<Unit>1</Unit>\r\n",
            "\t\t\t<Isim>KATAR RİYALİ</Isim>\r\n",
            "\t\t\t<CurrencyName>QATARI RIAL</CurrencyName>\r\n",
            "\t\t\t<ForexBuying>9.3246</ForexBuying>\r\n",
            "\t\t\t<ForexSelling>9.4466</ForexSelling>\r\n",
            "\t\t\t<BanknoteBuying></BanknoteBuying>\r\n",
            "\t\t\t<BanknoteSelling></BanknoteSelling>\r\n",
            "\t\t\t\t<CrossRateUSD>3.6460</CrossRateUSD>\r\n",
            "\t\t\t\t<CrossRateOther/>\r\n",
            "\t\t\r\n",
            "\t</Currency>\r\n",
            "\t<Currency CrossOrder=\"19\" Kod=\"KRW\" CurrencyCode=\"KRW\">\r\n",
            "\t\t\t<Unit>1</Unit>\r\n",
            "\t\t\t<Isim>GÜNEY KORE WONU</Isim>\r\n",
            "\t\t\t<CurrencyName>SOUTH KOREAN WON</CurrencyName>\r\n",
            "\t\t\t<ForexBuying>0.02447</ForexBuying>\r\n",
            "\t\t\t<ForexSelling>0.02479</ForexSelling>\r\n",
            "\t\t\t<BanknoteBuying></BanknoteBuying>\r\n",
            "\t\t\t<BanknoteSelling></BanknoteSelling>\r\n",
            "\t\t\t\t<CrossRateUSD>1389</CrossRateUSD>\r\n",
            "\t\t\t\t<CrossRateOther/>\r\n",
            "\t\t\r\n",
            "\t</Currency>\r\n",
            "\t<Currency CrossOrder=\"20\" Kod=\"AZN\" CurrencyCode=\"AZN\">\r\n",
            "\t\t\t<Unit>1</Unit>\r\n",
            "\t\t\t<Isim>AZERBAYCAN YENİ MANATI</Isim>\r\n",
            "\t\t\t<CurrencyName>AZERBAIJANI NEW MANAT</CurrencyName>\r\n",
            "\t\t\t<ForexBuying>19.9984</ForexBuying>\r\n",
            "\t\t\t<ForexSelling>20.2601</ForexSelling>\r\n",
            "\t\t\t<BanknoteBuying></BanknoteBuying>\r\n",
            "\t\t\t<BanknoteSelling></BanknoteSelling>\r\n",
            "\t\t\t\t<CrossRateUSD>1.7000</CrossRateUSD>\r\n",
            "\t\t\t\t<CrossRateOther/>\r\n",
            "\t\t\r\n",
            "\t</Currency>\r\n",
            "\t<Currency CrossOrder=\"21\" Kod=\"AED\" CurrencyCode=\"AED\">\r\n",
            "\t\t\t<Unit>1</Unit>\r\n",
            "\t\t\t<Isim>BİRLEŞİK ARAP EMİRLİKLERİ DİRHEMİ</Isim>\r\n",
            "\t\t\t<CurrencyName>UNITED ARAB EMIRATES DIRHAM</CurrencyName>\r\n",
            "\t\t\t<ForexBuying>9.2560</ForexBuying>\r\n",
            "\t\t\t<ForexSelling>9.3771</ForexSelling>\r\n",
            "\t\t\t<BanknoteBuying></BanknoteBuying>\r\n",
            "\t\t\t<BanknoteSelling></BanknoteSelling>\r\n",
            "\t\t\t\t<CrossRateUSD>3.6730</CrossRateUSD>\r\n",
            "\t\t\t\t<CrossRateOther/>\r\n",
            "\t\t\r\n",
            "\t</Currency>\r\n",
            "\t<Currency CrossOrder=\"0\" Kod=\"XDR\" CurrencyCode=\"XDR\">\r\n",
            "\t\t<Unit>1</Unit>\r\n",
            "\t\t<Isim>ÖZEL ÇEKME HAKKI (SDR)                            </Isim>\r\n",
            "\t\t<CurrencyName>SPECIAL DRAWING RIGHT (SDR)                       </CurrencyName>\r\n",
            "\t\t<ForexBuying>45.5273</ForexBuying>\r\n",
            "\t\t<ForexSelling/>\r\n",
            "\t\t<BanknoteBuying/>\r\n",
            "\t\t<BanknoteSelling/>\r\n",
            "\t\t<CrossRateUSD/>\r\n",
            "\t\t<CrossRateOther>1.33044</CrossRateOther>\r\n",
            "\t</Currency>\r\n",
            "</Tarih_Date>\r\n",
            "\n",
            "USD 34.3019 34.1650\n",
            "USD Banka Alış Satış Arasındaki Kur Farkı -> 0.13690000000000424\n",
            "EUR 37.1216 36.9734\n",
            "EUR Banka Alış Satış Arasındaki Kur Farkı -> 0.14820000000000277\n"
          ]
        },
        {
          "output_type": "display_data",
          "data": {
            "text/plain": [
              "<Figure size 1000x600 with 1 Axes>"
            ],
            "image/png": "[encoded data removed]"
          },
          "metadata": {}
        }
      ]
    },
    {
      "cell_type": "markdown",
      "source": [
        "\n",
        "\n",
        "---\n",
        "\n"
      ],
      "metadata": {
        "id": "DWyj1MC77lXL"
      }
    },
    {
      "cell_type": "markdown",
      "source": [
        "df.sort_values(by='Fark', ascending=False) ifadesi, döviz birimlerini alış-satış farkına göre azalan sırayla sıralar. Böylece en yüksek alış-satış farkına sahip para birimleri en üstte yer alır."
      ],
      "metadata": {
        "id": "2AW6f55B7jZj"
      }
    },
    {
      "cell_type": "code",
      "source": [
        "\n",
        "df_sorted = df.sort_values(by='Fark', ascending=False)\n",
        "\n",
        "plt.figure(figsize=(10, 6))\n",
        "plt.bar(df_sorted['Para Birimi'], df_sorted['Fark'], color='blue')\n",
        "plt.xlabel('Para Birimi')\n",
        "plt.ylabel('Alış-Satış Farkı')\n",
        "plt.title('En Fazla ve En Az İşlem Gören Para Birimleri')\n",
        "plt.xticks(rotation=45)\n",
        "plt.show()"
      ],
      "metadata": {
        "colab": {
          "base_uri": "https://localhost:8080/",
          "height": 585
        },
        "id": "aL7jvHwHbk0D",
        "outputId": "87a96a93-1503-4012-cacc-5df59a8163a4"
      },
      "execution_count": 25,
      "outputs": [
        {
          "output_type": "display_data",
          "data": {
            "text/plain": [
              "<Figure size 1000x600 with 1 Axes>"
            ],
            "image/png": "[encoded data removed]"
          },
          "metadata": {}
        }
      ]
    },
    {
      "cell_type": "code",
      "source": [
        "# CSV dosyasına kaydetme\n",
        "df_sorted.to_csv('kur_verileri_siralama.csv', index=False)\n",
        "\n",
        "print(\"Veriler 'kur_verileri_siralama.csv' dosyasına kaydedildi.\")"
      ],
      "metadata": {
        "colab": {
          "base_uri": "https://localhost:8080/"
        },
        "id": "hh5UYoF9bHIc",
        "outputId": "deda8772-9abb-4d66-a78b-03c955374f23"
      },
      "execution_count": null,
      "outputs": [
        {
          "output_type": "stream",
          "name": "stdout",
          "text": [
            "Veriler 'kur_verileri_siralama.csv' dosyasına kaydedildi.\n"
          ]
        }
      ]
    },
    {
      "cell_type": "markdown",
      "source": [
        "#OpenWeatherMap API'sini kullanarak belirli bir şehrin hava durumu bilgilerini alır ve ekrana yazdırma"
      ],
      "metadata": {
        "id": "tAWhYH847th6"
      }
    },
    {
      "cell_type": "markdown",
      "source": [
        "hava_durumu_bilgisi_al() fonksiyonu, OpenWeatherMap API’sine istek gönderir. params içinde şehir adı, API anahtarı ve sıcaklık birimi (Celsius için \"metric\") yer alır.\n",
        "\n",
        "requests.get() ile API'ye HTTP isteği yapılır ve response.raise_for_status() hatalı durumlarda bir uyarı mesajı verir.\n",
        "\n",
        "API yanıtı hava_durumu değişkeninde JSON formatında alınır.\n",
        "\n",
        "Şehir adı, sıcaklık, nem oranı ve hava durumu açıklaması ekrana yazdırılır.\n",
        "\n",
        "Örneğin, sıcaklık hava_durumu['main']['temp'] ile, nem oranı ise hava_durumu['main']['humidity'] ile alınır.\n",
        "\n",
        " __main__ bloğunda kullanıcıdan şehir adı ve API anahtarı alınıp hava_durumu_bilgisi_al() fonksiyonuna iletilir."
      ],
      "metadata": {
        "id": "zSpMOo-970v7"
      }
    },
    {
      "cell_type": "code",
      "source": [
        "import requests\n",
        "\n",
        "def hava_durumu_bilgisi_al(sehir, api_anahtari):\n",
        "    base_url = \"https://api.openweathermap.org/data/2.5/weather\"\n",
        "\n",
        "    params = {\"q\": sehir, \"appid\": api_anahtari, \"units\": \"metric\"}\n",
        "\n",
        "    try:\n",
        "        response = requests.get(base_url, params=params)\n",
        "        response.raise_for_status()\n",
        "\n",
        "        hava_durumu = response.json()\n",
        "\n",
        "        print(f\"Hava Durumu Bilgisi - {sehir}\")\n",
        "        print(f\"Sıcaklık: {hava_durumu['main']['temp']} °C\")\n",
        "        print(f\"Nem Oranı: {hava_durumu['main']['humidity']}%\")\n",
        "        print(f\"Açıklama: {hava_durumu['weather'][0]['description']}\")\n",
        "\n",
        "    except requests.exceptions.RequestException as err:\n",
        "        print(f\"Hata oluştu: {err}\")\n",
        "\n",
        "if __name__ == \"__main__\":\n",
        "    sehir_adı = input(\"Hava durumu bilgisini almak istediğiniz şehir adını girin: \")\n",
        "    api_key = input(\"OpenWeatherMap API anahtarınızı girin: \")\n",
        "\n",
        "    hava_durumu_bilgisi_al(sehir_adı, api_key)\n"
      ],
      "metadata": {
        "colab": {
          "base_uri": "https://localhost:8080/"
        },
        "id": "u1Ga5Gt5bo57",
        "outputId": "11e78b65-8222-40df-b778-81f0571c6a8e"
      },
      "execution_count": null,
      "outputs": [
        {
          "name": "stdout",
          "output_type": "stream",
          "text": [
            "Hava durumu bilgisini almak istediğiniz şehir adını girin: Aksaray\n"
          ]
        }
      ]
    },
    {
      "cell_type": "markdown",
      "source": [
        "#Aşağıdaki blokta da görselleştirme işlemleri yapılır"
      ],
      "metadata": {
        "id": "DJ9_MhIA8M5z"
      }
    },
    {
      "cell_type": "code",
      "source": [
        "\n",
        "import requests\n",
        "import matplotlib.pyplot as plt\n",
        "\n",
        "def hava_durumu_bilgisi_al(sehir, api_anahtari):\n",
        "    base_url = \"https://api.openweathermap.org/data/2.5/weather\"\n",
        "\n",
        "    params = {\"q\": sehir, \"appid\": api_anahtari, \"units\": \"metric\"}\n",
        "\n",
        "    try:\n",
        "        response = requests.get(base_url, params=params)\n",
        "        response.raise_for_status()\n",
        "\n",
        "        hava_durumu = response.json()\n",
        "\n",
        "        print(f\"Hava Durumu Bilgisi - {sehir}\")\n",
        "        print(f\"Sıcaklık: {hava_durumu['main']['temp']} °C\")\n",
        "        print(f\"Nem Oranı: {hava_durumu['main']['humidity']}%\")\n",
        "        print(f\"Açıklama: {hava_durumu['weather'][0]['description']}\")\n",
        "\n",
        "        veri = {\n",
        "            \"Sıcaklık (°C)\": hava_durumu['main']['temp'],\n",
        "            \"Nem Oranı (%)\": hava_durumu['main']['humidity']\n",
        "        }\n",
        "\n",
        "        plt.figure(figsize=(12, 10))\n",
        "\n",
        "        plt.subplot(2, 2, 1)\n",
        "        plt.bar(veri.keys(), veri.values(), color=['blue', 'green'])\n",
        "        plt.xlabel('Hava Durumu Özellikleri')\n",
        "        plt.ylabel('Değerler')\n",
        "        plt.title(f'{sehir} İçin Hava Durumu Bilgileri (Bar Grafiği)')\n",
        "\n",
        "        plt.subplot(2, 2, 2)\n",
        "        plt.pie(veri.values(), labels=veri.keys(), autopct='%1.1f%%', colors=['blue', 'green'])\n",
        "        plt.title(f'{sehir} İçin Hava Durumu Bilgileri (Daire Grafiği)')\n",
        "\n",
        "        plt.subplot(2, 2, 3)\n",
        "        plt.scatter(['Sıcaklık (°C)'], [veri['Sıcaklık (°C)']], color='red', s=100, label='Sıcaklık (°C)')\n",
        "        plt.scatter(['Nem Oranı (%)'], [veri['Nem Oranı (%)']], color='blue', s=100, label='Nem Oranı (%)')\n",
        "        plt.xlabel('Hava Durumu Özellikleri')\n",
        "        plt.ylabel('Değerler')\n",
        "        plt.title(f'{sehir} İçin Hava Durumu Bilgileri (Scatter Plot)')\n",
        "        plt.legend()\n",
        "\n",
        "        plt.subplot(2, 2, 4)\n",
        "        plt.hist([veri['Sıcaklık (°C)']], bins=2, color='red', label='Sıcaklık (°C)')\n",
        "        plt.hist([veri['Nem Oranı (%)']], bins=2, color='blue', label='Nem Oranı (%)', alpha=0.7)\n",
        "        plt.xlabel('Değerler')\n",
        "        plt.ylabel('Frekans')\n",
        "        plt.title(f'{sehir} İçin Hava Durumu Bilgileri (Histogram)')\n",
        "        plt.legend()\n",
        "\n",
        "        plt.tight_layout()\n",
        "        plt.show()\n",
        "\n",
        "    except requests.exceptions.RequestException as err:\n",
        "        print(f\"Hata oluştu: {err}\")\n",
        "\n",
        "if __name__ == \"__main__\":\n",
        "    sehir_adı = input(\"Hava durumu bilgisini almak istediğiniz şehir adını girin: \")\n",
        "    api_key = input(\"OpenWeatherMap API anahtarınızı girin: \")\n",
        "\n",
        "    hava_durumu_bilgisi_al(sehir_adı, api_key)"
      ],
      "metadata": {
        "id": "ckyH-2m6bvND"
      },
      "execution_count": null,
      "outputs": []
    }
  ]
}
