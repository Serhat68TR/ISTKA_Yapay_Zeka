{
  "nbformat": 4,
  "nbformat_minor": 0,
  "metadata": {
    "colab": {
      "provenance": []
    },
    "kernelspec": {
      "name": "python3",
      "display_name": "Python 3"
    },
    "language_info": {
      "name": "python"
    }
  },
  "cells": [
    {
      "cell_type": "markdown",
      "source": [
        "#İSTKA SİBER AKADEMİ 25-10-2024 Yapay Zeka Dersi Çalışmaları"
      ],
      "metadata": {
        "id": "ZdMiIwEQm1fb"
      }
    },
    {
      "cell_type": "markdown",
      "source": [
        "Çalışmalarından faydalandığım değerli hocam Ali ÇETİNKAYA'nın açık kaynak kodlu linki : https://github.com/acetinkaya/ai_igu/tree/main"
      ],
      "metadata": {
        "id": "XP9HVwy2nTNJ"
      }
    },
    {
      "cell_type": "code",
      "execution_count": 10,
      "metadata": {
        "colab": {
          "base_uri": "https://localhost:8080/"
        },
        "id": "XVWRaBAk4WmU",
        "outputId": "1169a1b5-b891-4e49-bee7-4369efcf0e28"
      },
      "outputs": [
        {
          "output_type": "stream",
          "name": "stdout",
          "text": [
            "Merhaba, İGÜ - YAPAY ZEKA geliştirilmesi için kullanılacak kütüphaneler - D4\n"
          ]
        }
      ],
      "source": [
        "print(\"Merhaba, İGÜ - YAPAY ZEKA geliştirilmesi için kullanılacak kütüphaneler - D4\") # print ekrana çıktı veren bir koddur.\n"
      ]
    },
    {
      "cell_type": "markdown",
      "source": [
        "#NOTLARIM\n",
        "\n",
        "\n",
        "---\n",
        "\n",
        "\n",
        "\n",
        "#Scikit-Learn\n",
        " Python tabanlı bir makine öğrenimi kütüphanesidir. Çeşitli gözetimli ve gözetimsiz öğrenme algoritmalarını içerir ve veri işleme, model değerlendirme, ve model seçimi gibi süreçler için kapsamlı bir altyapı sunar.\n",
        "\n",
        "#Tensorflow\n",
        " Google tarafından geliştirilen ve derin öğrenme projeleri için kullanılan bir kütüphanedir. Yapay sinir ağlarının oluşturulmasını, eğitimini ve dağıtımını sağlar.\n",
        "\n",
        "#Pytorch\n",
        " Facebook tarafından geliştirilen PyTorch, özellikle araştırmacılar ve akademisyenler arasında popüler olan bir derin öğrenme kütüphanesidir. Esnek yapısı ve dinamik hesaplama grafikleri ile öne çıkar.\n",
        "\n",
        "#Keras\n",
        " Keras, kullanımı kolay ve hızlı bir şekilde model geliştirmek için tasarlanmış bir derin öğrenme kütüphanesidir. Yüksek seviye bir API olarak TensorFlow üzerinde çalışır."
      ],
      "metadata": {
        "id": "YQTLQB9gnck5"
      }
    },
    {
      "cell_type": "code",
      "source": [
        "import sys # import python programlama dilinde yazılıma kütüphane eklemeye yarayan bir kod blogudur.\n",
        "print(sys.version)"
      ],
      "metadata": {
        "colab": {
          "base_uri": "https://localhost:8080/"
        },
        "id": "tdgIdGcx4hmo",
        "outputId": "feb0f739-b945-4fe4-d8a3-293b5a4b2a24"
      },
      "execution_count": 1,
      "outputs": [
        {
          "output_type": "stream",
          "name": "stdout",
          "text": [
            "3.10.12 (main, Sep 11 2024, 15:47:36) [GCC 11.4.0]\n"
          ]
        }
      ]
    },
    {
      "cell_type": "code",
      "source": [
        "from google.colab import drive # google colab - drive bağlantısı\n",
        "\n",
        "drive.mount('/content/drive')"
      ],
      "metadata": {
        "colab": {
          "base_uri": "https://localhost:8080/"
        },
        "id": "B4c314r-4kFg",
        "outputId": "abaffdb2-4a4c-4e99-abf4-a32c4409f677"
      },
      "execution_count": 2,
      "outputs": [
        {
          "output_type": "stream",
          "name": "stdout",
          "text": [
            "Drive already mounted at /content/drive; to attempt to forcibly remount, call drive.mount(\"/content/drive\", force_remount=True).\n"
          ]
        }
      ]
    },
    {
      "cell_type": "code",
      "source": [
        "import os\n",
        "\n",
        "os.chdir('/content/drive/My Drive/igu_Yapay_Zeka')\n",
        "\n",
        "!pwd # bize kodun çıktısını dosya yolu olarak veren kod blogudur."
      ],
      "metadata": {
        "colab": {
          "base_uri": "https://localhost:8080/"
        },
        "id": "0XvtN9dP4pRZ",
        "outputId": "8fb79de4-c467-4167-a518-447bb7a5d883"
      },
      "execution_count": 3,
      "outputs": [
        {
          "output_type": "stream",
          "name": "stdout",
          "text": [
            "/content/drive/My Drive/igu_Yapay_Zeka\n"
          ]
        }
      ]
    },
    {
      "cell_type": "code",
      "source": [
        "# CPU ve GPU teknolojisinin kullanımına göre olması gereken veri sayısı tablosu\n",
        "\n",
        "import pandas as pd\n",
        "\n",
        "tablo = {\n",
        "    \"Aralık\": [\"Küçük ölçekli\", \"Orta ölçekli\", \"Büyük ölçekli\", \"Hiper ölçekli\", \"Exascale\"],\n",
        "    \"Veri Sayısı\": [\"100 - 10,000\", \"10,000 - 100,000\", \"100,000 - Milyon\",  \"Milyon - Milyar\", \"Milyar - Trilyon\"],\n",
        "    \"CPU\": [\"Evet\", \"Evet\", \"Opsiyonel\", \"Hayır\", \"Hayır\"],\n",
        "    \"GPU\": [\"Hayır\", \"Opsiyonel\", \"Evet\", \"Evet\", \"Evet\"]\n",
        "}\n",
        "\n",
        "print(pd.DataFrame(tablo))"
      ],
      "metadata": {
        "colab": {
          "base_uri": "https://localhost:8080/"
        },
        "id": "5QXX1f-V_Eqp",
        "outputId": "f01261fc-3ea5-4bde-e399-60221854b0e0"
      },
      "execution_count": 4,
      "outputs": [
        {
          "output_type": "stream",
          "name": "stdout",
          "text": [
            "          Aralık       Veri Sayısı        CPU        GPU\n",
            "0  Küçük ölçekli      100 - 10,000       Evet      Hayır\n",
            "1   Orta ölçekli  10,000 - 100,000       Evet  Opsiyonel\n",
            "2  Büyük ölçekli  100,000 - Milyon  Opsiyonel       Evet\n",
            "3  Hiper ölçekli   Milyon - Milyar      Hayır       Evet\n",
            "4       Exascale  Milyar - Trilyon      Hayır       Evet\n"
          ]
        }
      ]
    },
    {
      "cell_type": "markdown",
      "source": [
        "\n",
        "\n",
        "---\n",
        "\n",
        "#Kütüphane Kurulumunda dikkat edilmesi gereken en önemli konu:\n",
        "\n",
        "Genel kullanım bakımından python kütüphanesi kurucağımız zaman dikkat edilmesi gereken iki yapı bulunmaktadır. Bu yapılar \"pip\" ve \"pip3\"'tür.\n",
        "\n",
        "pip yapısı -> Python 2.x sürümlerini destekler.\n",
        "\n",
        "pip3 yapısı -> Python 3.x sürümlerini destekler.\n"
      ],
      "metadata": {
        "id": "HrYPYfnvpCeh"
      }
    },
    {
      "cell_type": "code",
      "source": [
        "import pandas as pd\n",
        "\n",
        "# True Positive (TP), True Negative (TN), False Positive (FP), False Negative (FN)\n",
        "matris_bilgisi = {\n",
        "    \"Gerçek Pozitif\": [\"Doğru Pozitif (TP)\", \"Yanlış Negatif (FN)\"],\n",
        "    \"Gerçek Negatif\": [\"Yanlış Pozitif (FP)\", \"Doğru Negatif (TN)\"]\n",
        "}\n",
        "\n",
        "# DataFrame oluşturma\n",
        "matris = pd.DataFrame(matris_bilgisi, index=[\"Tahmin Pozitif\", \"Tahmin Negatif\"])\n",
        "\n",
        "# Tabloyu gösterme\n",
        "print(matris)\n"
      ],
      "metadata": {
        "colab": {
          "base_uri": "https://localhost:8080/"
        },
        "id": "Lv0xGheI_RnK",
        "outputId": "f2e3ae5d-b9c2-4a04-d370-64dab3c9330d"
      },
      "execution_count": 5,
      "outputs": [
        {
          "output_type": "stream",
          "name": "stdout",
          "text": [
            "                     Gerçek Pozitif       Gerçek Negatif\n",
            "Tahmin Pozitif   Doğru Pozitif (TP)  Yanlış Pozitif (FP)\n",
            "Tahmin Negatif  Yanlış Negatif (FN)   Doğru Negatif (TN)\n"
          ]
        }
      ]
    },
    {
      "cell_type": "markdown",
      "source": [
        "Karmaşıklık matrisinden sistemin doğruluğunu bulacağımız formül ->\n",
        "\n",
        "Dogruluk = TP+TN+FP+FN / TP+TN 'dir.\n",
        "\n",
        "Örneğin: TP = 50, TN = 40, FP = 5, FN = 5 ise; Dogruluk = 50 + 40 + 5 + 5 / 50 + 40 --> 0.9 -> % 90 olarak hesaplanmaktadır.\n",
        "\n",
        "%90 Model Doğruluk Oranı - %10 Modelin Hata Oranı 'dır.\n",
        "\n",
        "Hata oranını azaltmak için->\n",
        "\n",
        "Modelin iyileştirilmesi,\n",
        "\n",
        "Veri sayısının arttırılması,\n",
        "\n",
        "Eğitim adım sayısının değiştirilmesi,\n",
        "\n",
        "Veri seti içerisindeki farklı değişlenlerin - özelliklerin algoritmaya dahil edilmesi."
      ],
      "metadata": {
        "id": "d0-p-j6PpInJ"
      }
    },
    {
      "cell_type": "code",
      "source": [
        "# Scikit-Learn kütüphanesinin sisteme dahil edilmesi ve veri setinin işleme alınması\n",
        "\n",
        "!pip install -U scikit-learn"
      ],
      "metadata": {
        "colab": {
          "base_uri": "https://localhost:8080/"
        },
        "id": "1Fmm_sSw_Wop",
        "outputId": "a3f32289-587a-4a54-b9a9-bea4516115a4"
      },
      "execution_count": 6,
      "outputs": [
        {
          "output_type": "stream",
          "name": "stdout",
          "text": [
            "Requirement already satisfied: scikit-learn in /usr/local/lib/python3.10/dist-packages (1.5.2)\n",
            "Requirement already satisfied: numpy>=1.19.5 in /usr/local/lib/python3.10/dist-packages (from scikit-learn) (1.26.4)\n",
            "Requirement already satisfied: scipy>=1.6.0 in /usr/local/lib/python3.10/dist-packages (from scikit-learn) (1.13.1)\n",
            "Requirement already satisfied: joblib>=1.2.0 in /usr/local/lib/python3.10/dist-packages (from scikit-learn) (1.4.2)\n",
            "Requirement already satisfied: threadpoolctl>=3.1.0 in /usr/local/lib/python3.10/dist-packages (from scikit-learn) (3.5.0)\n"
          ]
        }
      ]
    },
    {
      "cell_type": "markdown",
      "source": [
        "Scikit-Learn kütüphanesi:\n",
        "!pip install -U scikit-learn"
      ],
      "metadata": {
        "id": "O586yVdmpTS5"
      }
    },
    {
      "cell_type": "code",
      "source": [
        "from sklearn.datasets import fetch_california_housing\n",
        "import pandas as pd\n",
        "\n",
        "# California Housing veri setini yükleme\n",
        "housing = fetch_california_housing()\n",
        "\n",
        "# Özellikleri ve hedef değişkeni almak\n",
        "X = housing.data  # Bağımsız değişkenler (özellikler)\n",
        "y = housing.target  # Bağımlı değişken (fiyatlar)\n",
        "\n",
        "# Verileri bir DataFrame'e dönüştürme\n",
        "df = pd.DataFrame(X, columns=housing.feature_names)\n",
        "df['PRICE'] = y\n",
        "\n",
        "# İlk birkaç satırı görüntüleme\n",
        "print(df.head())\n"
      ],
      "metadata": {
        "colab": {
          "base_uri": "https://localhost:8080/"
        },
        "id": "J_KvaEBC_YHZ",
        "outputId": "530737e6-5162-4b39-d837-bf5c6fa3ef4d"
      },
      "execution_count": 7,
      "outputs": [
        {
          "output_type": "stream",
          "name": "stdout",
          "text": [
            "   MedInc  HouseAge  AveRooms  AveBedrms  Population  AveOccup  Latitude  \\\n",
            "0  8.3252      41.0  6.984127   1.023810       322.0  2.555556     37.88   \n",
            "1  8.3014      21.0  6.238137   0.971880      2401.0  2.109842     37.86   \n",
            "2  7.2574      52.0  8.288136   1.073446       496.0  2.802260     37.85   \n",
            "3  5.6431      52.0  5.817352   1.073059       558.0  2.547945     37.85   \n",
            "4  3.8462      52.0  6.281853   1.081081       565.0  2.181467     37.85   \n",
            "\n",
            "   Longitude  PRICE  \n",
            "0    -122.23  4.526  \n",
            "1    -122.22  3.585  \n",
            "2    -122.24  3.521  \n",
            "3    -122.25  3.413  \n",
            "4    -122.25  3.422  \n"
          ]
        }
      ]
    },
    {
      "cell_type": "markdown",
      "source": [
        "\n",
        "\n",
        "---\n",
        "\n",
        "\n",
        "###Aşağıdaki kodda, Scikit-Learn kütüphanesi kullanılarak California konut veri setinde bir doğrusal regresyon modeli (Linear Regression) eğitildi ve modelin doğruluğunu değerlendirmek için Mean Squared Error (MSE) ve R-squared (R²) metrikleri hesaplandı."
      ],
      "metadata": {
        "id": "TGmFj0QYogwZ"
      }
    },
    {
      "cell_type": "code",
      "source": [
        "from sklearn.datasets import fetch_california_housing\n",
        "from sklearn.model_selection import train_test_split\n",
        "from sklearn.linear_model import LinearRegression\n",
        "from sklearn.metrics import mean_squared_error, r2_score\n",
        "import pandas as pd\n",
        "\n",
        "# California Housing veri setini yükleme\n",
        "housing = fetch_california_housing()\n",
        "df = pd.DataFrame(housing.data, columns=housing.feature_names)\n",
        "df['PRICE'] = housing.target\n",
        "\n",
        "# Özellikler ve hedef değişkeni ayırma\n",
        "X = df.drop('PRICE', axis=1)\n",
        "y = df['PRICE']\n",
        "\n",
        "# Veri setini bölme\n",
        "X_train, X_test, y_train, y_test = train_test_split(X, y, test_size=0.25, random_state=42)\n",
        "\n",
        "# Model oluşturma\n",
        "model = LinearRegression()\n",
        "model.fit(X_train, y_train)\n",
        "\n",
        "# Tahmin yapma\n",
        "predictions = model.predict(X_test)\n",
        "print(\"Tahmin Sonucları: \", predictions[:7])\n",
        "print(\"Gerçek Değerler: \", y_test[:7].values)\n",
        "\n",
        "# Sistemin Ortalama Hatası (MSE)\n",
        "mse = mean_squared_error(y_test, predictions)\n",
        "print(\"Mean Squared Error (MSE) Sonucu:\", mse)\n",
        "\n",
        "# Sistemin R-kare Hatası (R²)\n",
        "r2 = r2_score(y_test, predictions)\n",
        "print(\"R-squared (R²) Sonucu:\", r2)\n"
      ],
      "metadata": {
        "colab": {
          "base_uri": "https://localhost:8080/"
        },
        "id": "gdOz3Tne_ZsZ",
        "outputId": "0fcdd68a-09fc-4041-9e1d-5eaa8e4961a7"
      },
      "execution_count": 9,
      "outputs": [
        {
          "output_type": "stream",
          "name": "stdout",
          "text": [
            "Tahmin Sonucları:  [0.72412832 1.76677807 2.71151581 2.83601179 2.603755   2.01196798\n",
            " 2.64015877]\n",
            "Gerçek Değerler:  [0.477   0.458   5.00001 2.186   2.78    1.587   1.982  ]\n",
            "Mean Squared Error (MSE) Sonucu: 0.5411287478470685\n",
            "R-squared (R²) Sonucu: 0.5910509795491354\n"
          ]
        }
      ]
    }
  ]
}